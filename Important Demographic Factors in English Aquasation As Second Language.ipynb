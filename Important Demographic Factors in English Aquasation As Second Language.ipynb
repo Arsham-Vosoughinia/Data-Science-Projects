{
  "nbformat": 4,
  "nbformat_minor": 0,
  "metadata": {
    "accelerator": "TPU",
    "colab": {
      "name": "Untitled7.ipynb",
      "provenance": [],
      "machine_shape": "hm",
      "include_colab_link": true
    },
    "kernelspec": {
      "display_name": "Python 3",
      "language": "python",
      "name": "python3"
    },
    "language_info": {
      "codemirror_mode": {
        "name": "ipython",
        "version": 3
      },
      "file_extension": ".py",
      "mimetype": "text/x-python",
      "name": "python",
      "nbconvert_exporter": "python",
      "pygments_lexer": "ipython3",
      "version": "3.7.6"
    }
  },
  "cells": [
    {
      "cell_type": "markdown",
      "metadata": {
        "id": "view-in-github",
        "colab_type": "text"
      },
      "source": [
        "<a href=\"https://colab.research.google.com/github/ArVos89/Arsham-DataScience/blob/main/Important%20Demographic%20Factors%20in%20English%20Aquasation%20As%20Second%20Language.ipynb\" target=\"_parent\"><img src=\"https://colab.research.google.com/assets/colab-badge.svg\" alt=\"Open In Colab\"/></a>"
      ]
    },
    {
      "cell_type": "code",
      "metadata": {
        "id": "zmksZPE4qyKU"
      },
      "source": [
        "yesimport matplotlib.pyplot as plt\n",
        "import numpy as np\n",
        "import pandas as pd\n",
        "import statsmodels.api as sm\n",
        "from sqlalchemy import create_engine\n",
        "pd.set_option('display.max_columns', 128)\n",
        "pd.set_option('display.max_rows', 484)\n",
        "# Display preferences\n",
        "%matplotlib inline\n",
        "pd.options.display.float_format = '{:.3f}'.format\n",
        "\n",
        "from sqlalchemy import create_engine\n",
        "import seaborn as sns \n",
        "sns.set()\n",
        "\n",
        "import itertools\n",
        "import pandas as pd\n",
        "import numpy as np\n",
        "import matplotlib.pyplot as plt\n",
        "%matplotlib inline\n",
        "\n",
        "from sklearn.metrics import confusion_matrix, precision_score, recall_score\n",
        "from sklearn import ensemble\n",
        "\n",
        "from scipy.stats import boxcox\n",
        "import matplotlib.pyplot as plt\n",
        "import matplotlib.pyplot as plt\n",
        "import numpy as np\n",
        "import pandas as pd\n",
        "from sklearn import linear_model\n",
        "import statsmodels.formula.api as smf\n",
        "from sqlalchemy import create_engine\n",
        "from sklearn.preprocessing import StandardScaler, OneHotEncoder\n",
        "from sklearn.metrics import mean_squared_error\n",
        "from sklearn.linear_model import LinearRegression\n",
        "\n",
        "from sklearn.model_selection import train_test_split\n",
        "\n",
        "import warnings\n",
        "warnings.filterwarnings(action=\"ignore\")\n",
        "\n",
        "# df3=pd.read_csv(r'C:\\Users\\arsha\\OneDrive\\Documents\\Python Scripts\\lang dataset\\data.csv')\n",
        "\n",
        "from google.colab import files\n",
        "# uploaded = files.upload()\n",
        "\n",
        "df3= pd.read_csv('/content/data.csv' ) \n"
      ],
      "execution_count": null,
      "outputs": []
    },
    {
      "cell_type": "code",
      "metadata": {
        "id": "IHDQvdjovK6S"
      },
      "source": [
        "df33=df3.copy()"
      ],
      "execution_count": null,
      "outputs": []
    },
    {
      "cell_type": "markdown",
      "metadata": {
        "id": "PuyJUKleT6Zc"
      },
      "source": [
        "# New Section"
      ]
    },
    {
      "cell_type": "code",
      "metadata": {
        "colab": {
          "base_uri": "https://localhost:8080/"
        },
        "id": "ivSNpllzoHkC",
        "outputId": "c4f8460f-a1c8-4cc2-ef8c-af639dfe6e7d"
      },
      "source": [
        "from google.colab import drive\n",
        "drive.mount('/content/drive')"
      ],
      "execution_count": null,
      "outputs": [
        {
          "name": "stdout",
          "output_type": "stream",
          "text": [
            "Mounted at /content/drive\n"
          ]
        }
      ]
    },
    {
      "cell_type": "code",
      "metadata": {
        "id": "jsxxsXjMqyKa",
        "scrolled": true
      },
      "source": [
        "# import io\n",
        "# df3 = pd.read_csv(io.BytesIO(uploaded['data.csv']))"
      ],
      "execution_count": null,
      "outputs": []
    },
    {
      "cell_type": "code",
      "metadata": {
        "colab": {
          "base_uri": "https://localhost:8080/"
        },
        "id": "nN2BBoRuwPen",
        "outputId": "70a9f051-75d0-45c5-f63c-ef30f9b46f77"
      },
      "source": [
        "from sklearn import preprocessing\n",
        "from sklearn.preprocessing import StandardScaler\n",
        "\n",
        "max_abs_scaler = preprocessing.MaxAbsScaler()\n",
        "df3['elogitM'] = max_abs_scaler.fit_transform(df3['elogit'].values.reshape(-1,1))\n",
        "\n",
        "df3['elogit'].nunique()"
      ],
      "execution_count": null,
      "outputs": [
        {
          "output_type": "execute_result",
          "data": {
            "text/plain": [
              "77"
            ]
          },
          "metadata": {},
          "execution_count": 27
        }
      ]
    },
    {
      "cell_type": "code",
      "metadata": {
        "colab": {
          "base_uri": "https://localhost:8080/"
        },
        "id": "E1OIK0q9_lYL",
        "outputId": "19d50acb-4a60-4668-b1df-117201d9f2f9"
      },
      "source": [
        "df33.shape"
      ],
      "execution_count": null,
      "outputs": [
        {
          "output_type": "execute_result",
          "data": {
            "text/plain": [
              "(669498, 128)"
            ]
          },
          "metadata": {},
          "execution_count": 22
        }
      ]
    },
    {
      "cell_type": "code",
      "metadata": {
        "id": "I_L72qMdqyKc"
      },
      "source": [
        "from scipy.stats import norm\n",
        "\n",
        "df3['elogitC'] = pd.DataFrame(data=norm.rvs(loc=500, scale=50, size=100),\n",
        "                  columns=['elogit'])"
      ],
      "execution_count": null,
      "outputs": []
    },
    {
      "cell_type": "code",
      "metadata": {
        "colab": {
          "base_uri": "https://localhost:8080/"
        },
        "id": "vg39m_x7MQpx",
        "outputId": "15a74e7e-c4ce-4f57-a942-4464535e7412"
      },
      "source": [
        "df3['Eng_start'].isnull().sum()"
      ],
      "execution_count": null,
      "outputs": [
        {
          "output_type": "execute_result",
          "data": {
            "text/plain": [
              "0"
            ]
          },
          "metadata": {},
          "execution_count": 133
        }
      ]
    },
    {
      "cell_type": "code",
      "metadata": {
        "colab": {
          "base_uri": "https://localhost:8080/",
          "height": 662
        },
        "id": "VkwvkU8GLyzl",
        "outputId": "bbac7a8e-d434-4e05-cc43-77a27b801881"
      },
      "source": [
        "df33['Eng_start']=pd.cut(df33.Eng_start,bins=[0,10,15,20,30,40,50,60,70],labels=[10,15,20,30,40,50,60,70])\n",
        "startbar=df33.groupby('Eng_start')['elogit'].mean().reset_index()\n",
        "startbar.plot(x=\"Eng_start\", y=[\"elogit\"], kind=\"bar\",figsize=(5,8))\n",
        "plt.show()\n",
        "df33['Eng_start'].value_counts()"
      ],
      "execution_count": null,
      "outputs": [
        {
          "output_type": "display_data",
          "data": {
            "image/png": "[encoded data removed]",
            "text/plain": [
              "<Figure size 360x576 with 1 Axes>"
            ]
          },
          "metadata": {
            "needs_background": "light"
          }
        },
        {
          "output_type": "execute_result",
          "data": {
            "text/plain": [
              "10    191970\n",
              "15     70106\n",
              "20      9104\n",
              "30      3484\n",
              "40       780\n",
              "50       222\n",
              "60        53\n",
              "70        10\n",
              "Name: Eng_start, dtype: int64"
            ]
          },
          "metadata": {},
          "execution_count": 103
        }
      ]
    },
    {
      "cell_type": "code",
      "metadata": {
        "colab": {
          "base_uri": "https://localhost:8080/",
          "height": 697
        },
        "id": "cR52zuXiqyKc",
        "outputId": "c72b14ab-47f9-4081-c802-caf1fb1333dd"
      },
      "source": [
        "df33['age']=pd.cut(df33.age,bins=[0,10,15,20,30,40,50,60,70,80,90],labels=[10,15,20,30,40,50,60,70,80,90])\n",
        "agebar=df33.groupby('age')['elogit'].mean().reset_index()\n",
        "agebar.plot(x=\"age\", y=[\"elogit\"], kind=\"bar\",figsize=(5,8))\n",
        "plt.show()\n",
        "df33['age'].value_counts()"
      ],
      "execution_count": null,
      "outputs": [
        {
          "output_type": "display_data",
          "data": {
            "image/png": "[encoded data removed]",
            "text/plain": [
              "<Figure size 360x576 with 1 Axes>"
            ]
          },
          "metadata": {
            "needs_background": "light"
          }
        },
        {
          "output_type": "execute_result",
          "data": {
            "text/plain": [
              "30    262288\n",
              "40    108598\n",
              "20     87682\n",
              "50     47653\n",
              "60     24609\n",
              "70     11138\n",
              "15      8374\n",
              "80      1914\n",
              "90       227\n",
              "10       160\n",
              "Name: age, dtype: int64"
            ]
          },
          "metadata": {},
          "execution_count": 104
        }
      ]
    },
    {
      "cell_type": "code",
      "metadata": {
        "id": "6SD4VfFsqyKc"
      },
      "source": [
        "# df3['natlangs'] = df3['natlangs'].fillna('')\n",
        "\n",
        "df33.dropna(subset=['natlangs'],inplace=True)\n",
        "df33.dropna(subset=['Eng_little'],inplace=True)\n",
        "df33.dropna(subset=['Eng_start'],inplace=True)\n"
      ],
      "execution_count": null,
      "outputs": []
    },
    {
      "cell_type": "code",
      "metadata": {
        "id": "VYRBa5iaqyKf"
      },
      "source": [
        "df3['primelangs'] = df3.primelangs.str.replace(r'(^.*English.*$)', 'English')\n",
        "df33['primelangs'] = df33.primelangs.str.replace(r'(^.*Chinese.*$)', 'Chinese')\n",
        "\n",
        "\n",
        "df3['primelangs'] = df3.primelangs.str.replace(r'(^.*Croatian.*$)', 'Serb-Cro-Bos')\n",
        "df3['primelangs'] = df3.primelangs.str.replace(r'(^.*Bosnian.*$)', 'Serb-Cro-Bos')\n",
        "df3['primelangs'] = df3.primelangs.str.replace(r'(^.*Serbian.*$)', 'Serb-Cro-Bos')\n",
        "df3['primelangs'] = df3.primelangs.str.replace(r'(^.*Slovene.*$)', 'Serb-Cro-Bos')\n",
        "df3['primelangs'] = df3.primelangs.str.replace(r'(^.*Macedonian.*$)', 'Serb-Cro-Bos')\n",
        "\n",
        "\n",
        "df3['primelangs'] = df3.primelangs.str.replace(r'(^.*Russian.*$)', 'Rus-Bel-Ukr')\n",
        "df3['primelangs'] = df3.primelangs.str.replace(r'(^.*Belarussian.*$)', 'Rus-Bel-Ukr')\n",
        "df3['primelangs'] = df3.primelangs.str.replace(r'(^.*Ukrainian.*$)', 'Rus-Bel-Ukr')\n",
        "\n",
        "df3['primelangs'] = df3.primelangs.str.replace(r'(^.*Portuguese.*$)', 'Sp-Por')\n",
        "df3['primelangs'] = df3.primelangs.str.replace(r'(^.*Spanish.*$)', 'Sp-Por')\n",
        "df3['primelangs'] = df3.primelangs.str.replace(r'(^.*Catalan.*$)', 'Sp-Por')\n",
        "\n",
        "df3['primelangs'] = df3.primelangs.str.replace(r'(^.*Azeri.*$)', 'Turk_Az')\n",
        "df3['primelangs'] = df3.primelangs.str.replace(r'(^.* Turkish.*$)', 'Turk_Az')\n",
        "df3['primelangs'] = df3.primelangs.str.replace(r'(^.*Turkish.*$)', 'Turk_Az')\n",
        "\n",
        "df3['primelangs'] = df3.primelangs.str.replace(r'(^.*German.*$)', 'Ger_Dut')\n",
        "df3['primelangs'] = df3.primelangs.str.replace(r'(^.*Dutch.*$)', 'Ger_Dut')\n",
        "\n",
        "df3['primelangs'] = df3.primelangs.str.replace(r'(^.*Swedish.*$)', 'Scand')\n",
        "df3['primelangs'] = df3.primelangs.str.replace(r'(^.*Danish.*$)', 'Scand')\n",
        "df3['primelangs'] = df3.primelangs.str.replace(r'(^.*Norwegian.*$)', 'Scand')\n",
        "\n",
        "df3['primelangs'] = df3.primelangs.str.replace(r'(^.*Czech.*$)', 'Cz-Slov')\n",
        "df3['primelangs'] = df3.primelangs.str.replace(r'(^.*Slovak.*$)', 'Cz-Slov')\n",
        "\n",
        "df3['primelangs'] = df3.primelangs.str.replace(r'(^.*Malay.*$)', 'Indo-Mal')\n",
        "df3['primelangs'] = df3.primelangs.str.replace(r'(^.*Indonesian.*$)', 'Indo-Mal')\n",
        "df3['primelangs'] = df3.primelangs.str.replace(r'(^.*Malayan.*$)', 'Indo-Mal')\n",
        "df3['primelangs'] = df3.primelangs.str.replace(r'(^.*Malaysian.*$)', 'Indo-Mal')\n",
        "\n",
        "\n",
        "\n",
        "df3['primelangs'] = df3.primelangs.str.replace(r'(^.*Urdu.*$)', 'Hindi-Urdu')\n",
        "df3['primelangs'] = df3.primelangs.str.replace(r'(^.*Hindi.*$)', 'Hindi-Urdu')\n",
        "df3['primelangs'] = df3.primelangs.str.replace(r'(^.*Punjabi.*$)', 'Hindi-Urdu')\n",
        "df3['primelangs'] = df3.primelangs.str.replace(r'(^.*Gujarati.*$)', 'Hindi-Urdu')\n",
        "\n",
        "\n",
        "\n",
        "df3['primelangs'] = df3.primelangs.str.replace(r'(^.*Dari.*$)', 'Farsi')\n",
        "df3['primelangs'] = df3.primelangs.str.replace(r'(^.*Tajik.*$)', 'Farsi')\n",
        "df3['primelangs'] = df3.primelangs.str.replace(r'(^.*Tadjik.*$)', 'Farsi')\n",
        "\n",
        "\n",
        "df3['primelangs'] = df3.primelangs.str.replace(r'(^.*Romanian.*$)', 'Romanian')\n",
        "\n",
        "df3['primelangs'] = df3.primelangs.str.replace(r'(^.*French.*$)', 'French')\n"
      ],
      "execution_count": null,
      "outputs": []
    },
    {
      "cell_type": "code",
      "metadata": {
        "id": "2H03YDe3qyKh"
      },
      "source": [
        "df33 = df33.drop(df33[df33['gender'] == 'other'].index)\n"
      ],
      "execution_count": null,
      "outputs": []
    },
    {
      "cell_type": "code",
      "metadata": {
        "colab": {
          "base_uri": "https://localhost:8080/"
        },
        "id": "QvtpTRNsqyKj",
        "outputId": "519bf67a-b8b5-4f61-b9da-255a5a982936"
      },
      "source": [
        "df33.shape"
      ],
      "execution_count": null,
      "outputs": [
        {
          "output_type": "execute_result",
          "data": {
            "text/plain": [
              "(662797, 128)"
            ]
          },
          "metadata": {},
          "execution_count": 8
        }
      ]
    },
    {
      "cell_type": "code",
      "metadata": {
        "id": "hiZwZhCXqyKj"
      },
      "source": [
        "# df3.groupby('natlangs').filter(lambda x : len(x)>9)"
      ],
      "execution_count": null,
      "outputs": []
    },
    {
      "cell_type": "code",
      "metadata": {
        "id": "uua4eZTZqyKj"
      },
      "source": [
        "# Get the count of each value value_counts = df3['natlangs'].value_counts() # Select the values where the count is less than 9 (or 10 if you like) to_remove = value_counts[value_counts <= 9].index # Keep rows where the natlangs column is not in to_remove df3 = df3[~df3.natlangs.isin(to_remove)]\n",
        "\n",
        "value_counts = df33['natlangs'].value_counts()\n",
        "\n",
        "to_remove = value_counts[value_counts <= 200].index\n",
        "\n",
        "to_remove_df3 = df33[~df33.natlangs.isin(to_remove)]\n",
        "\n",
        "\n"
      ],
      "execution_count": null,
      "outputs": []
    },
    {
      "cell_type": "code",
      "metadata": {
        "id": "3seEPpQ-qyKk"
      },
      "source": [
        "value_counts_2 = df33['primelangs'].value_counts()\n",
        "\n",
        "to_remove_2 = value_counts_2[value_counts_2 <= 125].index\n",
        "\n",
        "to_remove_df3 = to_remove_df3[~df33.primelangs.isin(to_remove_2)]\n",
        "\n",
        "\n",
        "value_counts_3 = df33['education'].value_counts()\n",
        "\n",
        "to_remove_3 = value_counts_3[value_counts_3 <= 46].index\n",
        "\n",
        "to_remove_df3 = to_remove_df3[~to_remove_df3.education.isin(to_remove_3)]\n"
      ],
      "execution_count": null,
      "outputs": []
    },
    {
      "cell_type": "code",
      "metadata": {
        "colab": {
          "base_uri": "https://localhost:8080/"
        },
        "id": "AfMzLmKz_yne",
        "outputId": "b904a412-5ed0-48a2-b903-54177c5b69dc"
      },
      "source": [
        "to_remove_df3.shape"
      ],
      "execution_count": null,
      "outputs": [
        {
          "output_type": "execute_result",
          "data": {
            "text/plain": [
              "(608657, 128)"
            ]
          },
          "metadata": {},
          "execution_count": 11
        }
      ]
    },
    {
      "cell_type": "code",
      "metadata": {
        "colab": {
          "base_uri": "https://localhost:8080/",
          "height": 784
        },
        "id": "6bNr2-eGqyKk",
        "outputId": "771e68c9-d4df-4e19-ae62-a27a9364c0e7"
      },
      "source": [
        "edubar=to_remove_df3.groupby('education')['elogit'].mean().reset_index()\n",
        "edubar.plot(x=\"education\", y=[\"elogit\"], kind=\"bar\",figsize=(10,8))\n",
        "plt.show()"
      ],
      "execution_count": null,
      "outputs": [
        {
          "output_type": "display_data",
          "data": {
            "image/png": "[encoded data removed]",
            "text/plain": [
              "<Figure size 720x576 with 1 Axes>"
            ]
          },
          "metadata": {
            "needs_background": "light"
          }
        }
      ]
    },
    {
      "cell_type": "code",
      "metadata": {
        "colab": {
          "base_uri": "https://localhost:8080/",
          "height": 531
        },
        "id": "m0llHf4KE2s8",
        "outputId": "b97d2007-b308-4a23-8e9c-5cd6538d251f"
      },
      "source": [
        "scbar=to_remove_df3.groupby('speaker_cat')['elogit'].mean().reset_index()\n",
        "scbar.plot(x=\"speaker_cat\", y=[\"elogit\"], kind=\"bar\",figsize=(5,8))\n",
        "plt.show()"
      ],
      "execution_count": null,
      "outputs": [
        {
          "output_type": "display_data",
          "data": {
            "image/png": "[encoded data removed]",
            "text/plain": [
              "<Figure size 360x576 with 1 Axes>"
            ]
          },
          "metadata": {
            "needs_background": "light"
          }
        }
      ]
    },
    {
      "cell_type": "code",
      "metadata": {
        "id": "mgizvqERclfs",
        "colab": {
          "base_uri": "https://localhost:8080/",
          "height": 531
        },
        "outputId": "fd2ba2b0-97b1-466a-8f20-73a6a04aea50"
      },
      "source": [
        "genderbar=to_remove_df3.groupby('gender')['elogit'].mean().reset_index()\n",
        "genderbar.plot(x=\"gender\", y=[\"elogit\"], kind=\"bar\",figsize=(5,8))\n",
        "plt.show()\n"
      ],
      "execution_count": null,
      "outputs": [
        {
          "output_type": "display_data",
          "data": {
            "image/png": "[encoded data removed]",
            "text/plain": [
              "<Figure size 360x576 with 1 Axes>"
            ]
          },
          "metadata": {
            "needs_background": "light"
          }
        }
      ]
    },
    {
      "cell_type": "code",
      "metadata": {
        "colab": {
          "base_uri": "https://localhost:8080/",
          "height": 422
        },
        "id": "QwGgzRHlqyKk",
        "outputId": "6e44ae3a-7b24-41d4-c1c3-77275e994235"
      },
      "source": [
        "# male_female=to_remove_df3.groupby('gender')['speaker_cat','elogit'].mean().reset_index()\n",
        "# male_female.head()\n",
        "primebar=to_remove_df3.groupby('primelangs')['elogit'].mean().reset_index()\n",
        "\n",
        "primebar.plot(x=\"primelangs\", y=[\"elogit\"], kind=\"bar\",figsize=(20,8), align='edge', width=0.9)\n",
        "plt.show()"
      ],
      "execution_count": null,
      "outputs": [
        {
          "output_type": "display_data",
          "data": {
            "image/png": "[encoded data removed]",
            "text/plain": [
              "<Figure size 1440x576 with 1 Axes>"
            ]
          },
          "metadata": {
            "needs_background": "light"
          }
        }
      ]
    },
    {
      "cell_type": "code",
      "metadata": {
        "colab": {
          "base_uri": "https://localhost:8080/",
          "height": 422
        },
        "id": "MOH8t_ugqyKl",
        "outputId": "a44372bd-9a8b-4b36-e46d-b65a41846546"
      },
      "source": [
        "# male_female=to_remove_df3.groupby('gender')['speaker_cat','elogit'].mean().reset_index()\n",
        "# male_female.head()\n",
        "barlang=to_remove_df3.groupby('natlangs')['elogit'].mean().reset_index()\n",
        "\n",
        "barlang.plot(x=\"natlangs\", y=[\"elogit\"], kind=\"bar\",figsize=(20,8), align='edge', width=0.9)\n",
        "plt.show()"
      ],
      "execution_count": null,
      "outputs": [
        {
          "output_type": "display_data",
          "data": {
            "image/png": "[encoded data removed]",
            "text/plain": [
              "<Figure size 1440x576 with 1 Axes>"
            ]
          },
          "metadata": {
            "needs_background": "light"
          }
        }
      ]
    },
    {
      "cell_type": "code",
      "metadata": {
        "colab": {
          "base_uri": "https://localhost:8080/"
        },
        "id": "zKRtr2SDqyKl",
        "outputId": "20a5f167-a580-434a-d50e-5a159d141f98"
      },
      "source": [
        "c=to_remove_df3[['house_Eng','elogit','gender','Eng_start','speaker_cat','prime_Eng','nat_Eng','education','age']]\n",
        "c['house_Eng'] = c['house_Eng'].fillna(0)\n",
        "c['house_Eng'].unique()\n"
      ],
      "execution_count": null,
      "outputs": [
        {
          "output_type": "execute_result",
          "data": {
            "text/plain": [
              "array([0., 1.])"
            ]
          },
          "metadata": {},
          "execution_count": 13
        }
      ]
    },
    {
      "cell_type": "code",
      "metadata": {
        "colab": {
          "base_uri": "https://localhost:8080/"
        },
        "id": "0rp-Br1bqyKm",
        "outputId": "6a7b0695-1bd8-4d0c-ff3b-4554fdc3d562"
      },
      "source": [
        "y=c['elogit']\n",
        "X=c[['gender','speaker_cat','prime_Eng','nat_Eng','age','house_Eng','Eng_start']]\n",
        "v=pd.get_dummies(c[['speaker_cat','education']])\n",
        "# m=pd.get_dummies(c['natlangs'])\n",
        "g=pd.get_dummies(c['gender'], drop_first=True)\n",
        "\n",
        "# df3.reset_index(drop=True, inplace=True)\n",
        "# df3.reset_index(drop=True, inplace=True)\n",
        "X = X.drop(['gender'], axis =1).merge(g,left_index=True, right_index=True)\n",
        "X = X.drop(['speaker_cat'], axis =1).merge(v,left_index=True, right_index=True)\n",
        "# X = X.drop(['natlangs'], axis =1).merge(m,left_index=True, right_index=True)\n",
        "# Create training and test sets.\n",
        "offset = int(X.shape[0] * 0.8)\n",
        "\n",
        "# Put 80% of the data in the training set.\n",
        "X_train, y_train = X[:offset], y[:offset]\n",
        "\n",
        "# And put 20% in the test set.\n",
        "X_test, y_test = X[offset:], y[offset:]\n",
        "y.head(10)\n",
        "# X=pd.concat([X, pd.get_dummies(c['gender'], drop_first=True)])"
      ],
      "execution_count": null,
      "outputs": [
        {
          "output_type": "execute_result",
          "data": {
            "text/plain": [
              "0   3.622\n",
              "1   5.252\n",
              "2   5.252\n",
              "3   2.209\n",
              "4   2.801\n",
              "5   3.012\n",
              "6   4.143\n",
              "7   3.622\n",
              "8   2.801\n",
              "9   3.622\n",
              "Name: elogit, dtype: float64"
            ]
          },
          "metadata": {},
          "execution_count": 14
        }
      ]
    },
    {
      "cell_type": "code",
      "metadata": {
        "colab": {
          "base_uri": "https://localhost:8080/"
        },
        "id": "wUy9tqYSqyKm",
        "outputId": "5aae3d42-9c24-482c-9245-1a59615b496a"
      },
      "source": [
        "X.shape"
      ],
      "execution_count": null,
      "outputs": [
        {
          "output_type": "execute_result",
          "data": {
            "text/plain": [
              "(608657, 16)"
            ]
          },
          "metadata": {},
          "execution_count": 15
        }
      ]
    },
    {
      "cell_type": "code",
      "metadata": {
        "colab": {
          "base_uri": "https://localhost:8080/"
        },
        "id": "1qrSZaq4qyKm",
        "outputId": "8efee486-9e04-4d06-f0cb-33a5d582a062"
      },
      "source": [
        "from sklearn.preprocessing import PolynomialFeatures\n",
        "\n",
        "\n",
        "# poly = PolynomialFeatures(degree=3, include_bias=True)\n",
        "# X = poly.fit_transform(X)\n",
        "\n",
        "\n",
        "lrm = linear_model.LinearRegression()\n",
        "\n",
        "# Fit method estimates the coefficients using OLS\n",
        "lrm.fit(X, y)\n",
        "\n"
      ],
      "execution_count": null,
      "outputs": [
        {
          "output_type": "execute_result",
          "data": {
            "text/plain": [
              "LinearRegression(copy_X=True, fit_intercept=True, n_jobs=None, normalize=False)"
            ]
          },
          "metadata": {},
          "execution_count": 16
        }
      ]
    },
    {
      "cell_type": "markdown",
      "metadata": {
        "id": "bB0w8Hf_ekvI"
      },
      "source": [
        ""
      ]
    },
    {
      "cell_type": "code",
      "metadata": {
        "colab": {
          "base_uri": "https://localhost:8080/",
          "height": 806
        },
        "id": "l1CU-d9YqyKn",
        "outputId": "ba26c385-d870-4d1a-8850-0a28a206fb0a"
      },
      "source": [
        "X = sm.add_constant(X)\n",
        "\n",
        "results = sm.OLS(y, X).fit()\n",
        "\n",
        "results.summary()"
      ],
      "execution_count": null,
      "outputs": [
        {
          "output_type": "execute_result",
          "data": {
            "text/html": [
              "<table class=\"simpletable\">\n",
              "<caption>OLS Regression Results</caption>\n",
              "<tr>\n",
              "  <th>Dep. Variable:</th>         <td>elogit</td>      <th>  R-squared:         </th>  <td>   0.239</td>  \n",
              "</tr>\n",
              "<tr>\n",
              "  <th>Model:</th>                   <td>OLS</td>       <th>  Adj. R-squared:    </th>  <td>   0.239</td>  \n",
              "</tr>\n",
              "<tr>\n",
              "  <th>Method:</th>             <td>Least Squares</td>  <th>  F-statistic:       </th>  <td>1.362e+04</td> \n",
              "</tr>\n",
              "<tr>\n",
              "  <th>Date:</th>             <td>Thu, 07 Oct 2021</td> <th>  Prob (F-statistic):</th>   <td>  0.00</td>   \n",
              "</tr>\n",
              "<tr>\n",
              "  <th>Time:</th>                 <td>11:10:56</td>     <th>  Log-Likelihood:    </th> <td>-7.8822e+05</td>\n",
              "</tr>\n",
              "<tr>\n",
              "  <th>No. Observations:</th>      <td>608657</td>      <th>  AIC:               </th>  <td>1.576e+06</td> \n",
              "</tr>\n",
              "<tr>\n",
              "  <th>Df Residuals:</th>          <td>608642</td>      <th>  BIC:               </th>  <td>1.577e+06</td> \n",
              "</tr>\n",
              "<tr>\n",
              "  <th>Df Model:</th>              <td>    14</td>      <th>                     </th>      <td> </td>     \n",
              "</tr>\n",
              "<tr>\n",
              "  <th>Covariance Type:</th>      <td>nonrobust</td>    <th>                     </th>      <td> </td>     \n",
              "</tr>\n",
              "</table>\n",
              "<table class=\"simpletable\">\n",
              "<tr>\n",
              "                                 <td></td>                                   <th>coef</th>     <th>std err</th>      <th>t</th>      <th>P>|t|</th>  <th>[0.025</th>    <th>0.975]</th>  \n",
              "</tr>\n",
              "<tr>\n",
              "  <th>const</th>                                                          <td>    2.0042</td> <td>    0.003</td> <td>  636.507</td> <td> 0.000</td> <td>    1.998</td> <td>    2.010</td>\n",
              "</tr>\n",
              "<tr>\n",
              "  <th>prime_Eng</th>                                                      <td>   -0.0007</td> <td>    0.027</td> <td>   -0.026</td> <td> 0.979</td> <td>   -0.054</td> <td>    0.053</td>\n",
              "</tr>\n",
              "<tr>\n",
              "  <th>nat_Eng</th>                                                        <td>    0.1804</td> <td>    0.028</td> <td>    6.456</td> <td> 0.000</td> <td>    0.126</td> <td>    0.235</td>\n",
              "</tr>\n",
              "<tr>\n",
              "  <th>age</th>                                                            <td>    0.0060</td> <td>    0.000</td> <td>   55.297</td> <td> 0.000</td> <td>    0.006</td> <td>    0.006</td>\n",
              "</tr>\n",
              "<tr>\n",
              "  <th>house_Eng</th>                                                      <td>    0.2097</td> <td>    0.004</td> <td>   50.984</td> <td> 0.000</td> <td>    0.202</td> <td>    0.218</td>\n",
              "</tr>\n",
              "<tr>\n",
              "  <th>Eng_start</th>                                                      <td>   -0.0440</td> <td>    0.000</td> <td> -107.152</td> <td> 0.000</td> <td>   -0.045</td> <td>   -0.043</td>\n",
              "</tr>\n",
              "<tr>\n",
              "  <th>male</th>                                                           <td>   -0.1373</td> <td>    0.002</td> <td>  -60.118</td> <td> 0.000</td> <td>   -0.142</td> <td>   -0.133</td>\n",
              "</tr>\n",
              "<tr>\n",
              "  <th>speaker_cat_foreign</th>                                            <td>    0.6175</td> <td>    0.003</td> <td>  219.169</td> <td> 0.000</td> <td>    0.612</td> <td>    0.623</td>\n",
              "</tr>\n",
              "<tr>\n",
              "  <th>speaker_cat_late</th>                                               <td>    0.5278</td> <td>    0.003</td> <td>  154.178</td> <td> 0.000</td> <td>    0.521</td> <td>    0.535</td>\n",
              "</tr>\n",
              "<tr>\n",
              "  <th>speaker_cat_native</th>                                             <td>    0.8589</td> <td>    0.005</td> <td>  186.086</td> <td> 0.000</td> <td>    0.850</td> <td>    0.868</td>\n",
              "</tr>\n",
              "<tr>\n",
              "  <th>education_Didn't Finish High School (less than 13 years ed)</th>    <td>    0.1883</td> <td>    0.010</td> <td>   19.430</td> <td> 0.000</td> <td>    0.169</td> <td>    0.207</td>\n",
              "</tr>\n",
              "<tr>\n",
              "  <th>education_Graduate Degree</th>                                      <td>    0.3939</td> <td>    0.003</td> <td>  143.327</td> <td> 0.000</td> <td>    0.388</td> <td>    0.399</td>\n",
              "</tr>\n",
              "<tr>\n",
              "  <th>education_Haven't Finished High School (less than 13 years ed)</th> <td>    0.1101</td> <td>    0.006</td> <td>   19.791</td> <td> 0.000</td> <td>    0.099</td> <td>    0.121</td>\n",
              "</tr>\n",
              "<tr>\n",
              "  <th>education_High School Degree (12-13 years)</th>                     <td>    0.2417</td> <td>    0.003</td> <td>   70.575</td> <td> 0.000</td> <td>    0.235</td> <td>    0.248</td>\n",
              "</tr>\n",
              "<tr>\n",
              "  <th>education_Some Graduate School</th>                                 <td>    0.3219</td> <td>    0.004</td> <td>   80.584</td> <td> 0.000</td> <td>    0.314</td> <td>    0.330</td>\n",
              "</tr>\n",
              "<tr>\n",
              "  <th>education_Some Undergrad (higher ed)</th>                           <td>    0.3409</td> <td>    0.003</td> <td>  105.785</td> <td> 0.000</td> <td>    0.335</td> <td>    0.347</td>\n",
              "</tr>\n",
              "<tr>\n",
              "  <th>education_Undergraduate Degree (3-5 years higher ed)</th>           <td>    0.4073</td> <td>    0.003</td> <td>  149.739</td> <td> 0.000</td> <td>    0.402</td> <td>    0.413</td>\n",
              "</tr>\n",
              "</table>\n",
              "<table class=\"simpletable\">\n",
              "<tr>\n",
              "  <th>Omnibus:</th>       <td>21147.311</td> <th>  Durbin-Watson:     </th> <td>   1.936</td> \n",
              "</tr>\n",
              "<tr>\n",
              "  <th>Prob(Omnibus):</th>  <td> 0.000</td>   <th>  Jarque-Bera (JB):  </th> <td>23473.604</td>\n",
              "</tr>\n",
              "<tr>\n",
              "  <th>Skew:</th>           <td> 0.467</td>   <th>  Prob(JB):          </th> <td>    0.00</td> \n",
              "</tr>\n",
              "<tr>\n",
              "  <th>Kurtosis:</th>       <td> 3.233</td>   <th>  Cond. No.          </th> <td>1.91e+17</td> \n",
              "</tr>\n",
              "</table><br/><br/>Warnings:<br/>[1] Standard Errors assume that the covariance matrix of the errors is correctly specified.<br/>[2] The smallest eigenvalue is 1.77e-26. This might indicate that there are<br/>strong multicollinearity problems or that the design matrix is singular."
            ],
            "text/plain": [
              "<class 'statsmodels.iolib.summary.Summary'>\n",
              "\"\"\"\n",
              "                            OLS Regression Results                            \n",
              "==============================================================================\n",
              "Dep. Variable:                 elogit   R-squared:                       0.239\n",
              "Model:                            OLS   Adj. R-squared:                  0.239\n",
              "Method:                 Least Squares   F-statistic:                 1.362e+04\n",
              "Date:                Thu, 07 Oct 2021   Prob (F-statistic):               0.00\n",
              "Time:                        11:10:56   Log-Likelihood:            -7.8822e+05\n",
              "No. Observations:              608657   AIC:                         1.576e+06\n",
              "Df Residuals:                  608642   BIC:                         1.577e+06\n",
              "Df Model:                          14                                         \n",
              "Covariance Type:            nonrobust                                         \n",
              "==================================================================================================================================\n",
              "                                                                     coef    std err          t      P>|t|      [0.025      0.975]\n",
              "----------------------------------------------------------------------------------------------------------------------------------\n",
              "const                                                              2.0042      0.003    636.507      0.000       1.998       2.010\n",
              "prime_Eng                                                         -0.0007      0.027     -0.026      0.979      -0.054       0.053\n",
              "nat_Eng                                                            0.1804      0.028      6.456      0.000       0.126       0.235\n",
              "age                                                                0.0060      0.000     55.297      0.000       0.006       0.006\n",
              "house_Eng                                                          0.2097      0.004     50.984      0.000       0.202       0.218\n",
              "Eng_start                                                         -0.0440      0.000   -107.152      0.000      -0.045      -0.043\n",
              "male                                                              -0.1373      0.002    -60.118      0.000      -0.142      -0.133\n",
              "speaker_cat_foreign                                                0.6175      0.003    219.169      0.000       0.612       0.623\n",
              "speaker_cat_late                                                   0.5278      0.003    154.178      0.000       0.521       0.535\n",
              "speaker_cat_native                                                 0.8589      0.005    186.086      0.000       0.850       0.868\n",
              "education_Didn't Finish High School (less than 13 years ed)        0.1883      0.010     19.430      0.000       0.169       0.207\n",
              "education_Graduate Degree                                          0.3939      0.003    143.327      0.000       0.388       0.399\n",
              "education_Haven't Finished High School (less than 13 years ed)     0.1101      0.006     19.791      0.000       0.099       0.121\n",
              "education_High School Degree (12-13 years)                         0.2417      0.003     70.575      0.000       0.235       0.248\n",
              "education_Some Graduate School                                     0.3219      0.004     80.584      0.000       0.314       0.330\n",
              "education_Some Undergrad (higher ed)                               0.3409      0.003    105.785      0.000       0.335       0.347\n",
              "education_Undergraduate Degree (3-5 years higher ed)               0.4073      0.003    149.739      0.000       0.402       0.413\n",
              "==============================================================================\n",
              "Omnibus:                    21147.311   Durbin-Watson:                   1.936\n",
              "Prob(Omnibus):                  0.000   Jarque-Bera (JB):            23473.604\n",
              "Skew:                           0.467   Prob(JB):                         0.00\n",
              "Kurtosis:                       3.233   Cond. No.                     1.91e+17\n",
              "==============================================================================\n",
              "\n",
              "Warnings:\n",
              "[1] Standard Errors assume that the covariance matrix of the errors is correctly specified.\n",
              "[2] The smallest eigenvalue is 1.77e-26. This might indicate that there are\n",
              "strong multicollinearity problems or that the design matrix is singular.\n",
              "\"\"\""
            ]
          },
          "metadata": {},
          "execution_count": 17
        }
      ]
    },
    {
      "cell_type": "code",
      "metadata": {
        "colab": {
          "base_uri": "https://localhost:8080/"
        },
        "id": "9_xaB81fqyKn",
        "outputId": "0f6dee2e-b403-4bf4-c927-ddb4bc07d894"
      },
      "source": [
        "from sklearn.linear_model import Lasso\n",
        "\n",
        "\n",
        "lassoregr = Lasso(alpha=10**-20.5) \n",
        "lassoregr.fit(X, y)\n",
        "\n",
        "print((lassoregr.score(X_test, y_test)))\n"
      ],
      "execution_count": null,
      "outputs": [
        {
          "output_type": "stream",
          "name": "stdout",
          "text": [
            "0.06595968920791606\n"
          ]
        }
      ]
    },
    {
      "cell_type": "code",
      "metadata": {
        "colab": {
          "base_uri": "https://localhost:8080/"
        },
        "id": "1gehTydwqyKn",
        "outputId": "551b13c3-a5d1-43e6-c03d-9cec375d6fc5"
      },
      "source": [
        "from sklearn.linear_model import ElasticNet\n",
        "\n",
        "elasticregr = ElasticNet(alpha=10**-21, l1_ratio=0.9) \n",
        "elasticregr.fit(X, y)\n",
        "\n",
        "print(elasticregr.score(X, y))"
      ],
      "execution_count": null,
      "outputs": [
        {
          "name": "stdout",
          "output_type": "stream",
          "text": [
            "0.04529070483929698\n"
          ]
        }
      ]
    },
    {
      "cell_type": "code",
      "metadata": {
        "colab": {
          "base_uri": "https://localhost:8080/"
        },
        "id": "OMJ-TEnmqyKo",
        "outputId": "c40f0315-a5cb-4502-8877-65605d6d4869"
      },
      "source": [
        "df3['house_Eng'].value_counts()"
      ],
      "execution_count": null,
      "outputs": [
        {
          "data": {
            "text/plain": [
              "0.000    248216\n",
              "1.000     27879\n",
              "Name: house_Eng, dtype: int64"
            ]
          },
          "execution_count": 32,
          "metadata": {},
          "output_type": "execute_result"
        }
      ]
    },
    {
      "cell_type": "code",
      "metadata": {
        "colab": {
          "base_uri": "https://localhost:8080/"
        },
        "id": "Adp_WKIkqyKo",
        "outputId": "6a458ae1-2c70-4eec-f654-57150c171fc0"
      },
      "source": [
        "from sklearn.linear_model import HuberRegressor\n",
        "huber = HuberRegressor().fit(X, y)\n",
        "huber.score(X,y)"
      ],
      "execution_count": null,
      "outputs": [
        {
          "output_type": "execute_result",
          "data": {
            "text/plain": [
              "0.2602632823299392"
            ]
          },
          "metadata": {},
          "execution_count": 154
        }
      ]
    },
    {
      "cell_type": "code",
      "metadata": {
        "colab": {
          "base_uri": "https://localhost:8080/"
        },
        "id": "LJ0U41HzMwtM",
        "outputId": "ea6d4ae4-29c1-42a5-9a36-a50eba08d3fd"
      },
      "source": [
        "print(clf.score(X, y))"
      ],
      "execution_count": null,
      "outputs": [
        {
          "name": "stdout",
          "output_type": "stream",
          "text": [
            "0.27832134483169735\n"
          ]
        }
      ]
    },
    {
      "cell_type": "code",
      "metadata": {
        "colab": {
          "base_uri": "https://localhost:8080/"
        },
        "id": "XPtw6f6-OfYj",
        "outputId": "39996a6f-c5dc-43a3-e7bd-8468b2e58d3b"
      },
      "source": [
        "clfT = ensemble.GradientBoostingClassifier(**params)\n",
        "clfT.fit(X_train, y_train)\n",
        "print(clf.score(X_train,y_train))"
      ],
      "execution_count": null,
      "outputs": [
        {
          "name": "stdout",
          "output_type": "stream",
          "text": [
            "0.27372531097245956\n"
          ]
        }
      ]
    },
    {
      "cell_type": "code",
      "metadata": {
        "colab": {
          "base_uri": "https://localhost:8080/",
          "height": 301
        },
        "id": "WlCjcyXNNtZ0",
        "outputId": "c14d44c6-5bc0-4a55-b9ff-07316a25cbb2"
      },
      "source": [
        "feature_importance = clf.feature_importances_\n",
        "\n",
        "# Make importances relative to max importance.\n",
        "feature_importance = 100.0 * (feature_importance / feature_importance.max())\n",
        "sorted_idx = np.argsort(feature_importance)\n",
        "pos = np.arange(sorted_idx.shape[0]) + .5\n",
        "plt.subplot(1, 2, 2)\n",
        "plt.barh(pos, feature_importance[sorted_idx], align='center')\n",
        "plt.yticks(pos, X.columns[sorted_idx])\n",
        "plt.xlabel('Relative Importance')\n",
        "plt.title('Variable Importance')\n",
        "plt.show()"
      ],
      "execution_count": null,
      "outputs": [
        {
          "data": {
            "image/png": "[encoded data removed]",
            "text/plain": [
              "<Figure size 432x288 with 1 Axes>"
            ]
          },
          "metadata": {},
          "output_type": "display_data"
        }
      ]
    },
    {
      "cell_type": "code",
      "metadata": {
        "id": "kGa1kwwRtPH9",
        "colab": {
          "base_uri": "https://localhost:8080/"
        },
        "outputId": "c3532cd6-8c9d-43d8-9c0d-644f93424051"
      },
      "source": [
        "from sklearn.model_selection import cross_val_score\n",
        "from sklearn import metrics\n",
        "from sklearn import svm\n",
        "\n",
        "clfsvm = svm.SVC(kernel='linear', C=1, random_state=42)\n",
        "scorez = cross_val_score(clfsvm, X, y, cv=5)\n",
        "scorez"
      ],
      "execution_count": null,
      "outputs": [
        {
          "output_type": "execute_result",
          "data": {
            "text/plain": [
              "array([nan, nan, nan, nan, nan])"
            ]
          },
          "metadata": {},
          "execution_count": 63
        }
      ]
    },
    {
      "cell_type": "code",
      "metadata": {
        "id": "NuDo8pZ8nxVy"
      },
      "source": [
        "from sklearn.svm import SVR\n",
        "regressor = SVR(kernel = 'rbf')\n",
        "regressor.fit(X, y)"
      ],
      "execution_count": null,
      "outputs": []
    },
    {
      "cell_type": "code",
      "metadata": {
        "id": "NLjDChl-pLlj"
      },
      "source": [
        "c2=c.sample(n=10000)"
      ],
      "execution_count": null,
      "outputs": []
    },
    {
      "cell_type": "code",
      "metadata": {
        "id": "l7SRff-ypz_h"
      },
      "source": [
        "y1=c2['elogit']\n",
        "X1=c2[['gender','prime_Eng','nat_Eng','education','age','house_Eng','Eng_start']]\n",
        "v=pd.get_dummies(c2[['speaker_cat','education']])\n",
        "# m=pd.get_dummies(c['natlangs'])\n",
        "g=pd.get_dummies(c2['gender'], drop_first=True)\n",
        "\n",
        "# df3.reset_index(drop=True, inplace=True)\n",
        "# df3.reset_index(drop=True, inplace=True)\n",
        "X1 = X1.drop(['gender'], axis =1).merge(g,left_index=True, right_index=True)\n",
        "X1 = X1.drop(['education'], axis =1).merge(v,left_index=True, right_index=True)\n",
        "# X = X.drop(['natlangs'], axis =1).merge(m,left_index=True, right_index=True)\n",
        "\n",
        "\n",
        "# X=pd.concat([X, pd.get_dummies(c['gender'], drop_first=True)])"
      ],
      "execution_count": null,
      "outputs": []
    },
    {
      "cell_type": "code",
      "metadata": {
        "colab": {
          "base_uri": "https://localhost:8080/",
          "height": 450
        },
        "id": "AiUA8uUQqPhY",
        "outputId": "9ba596ee-610e-4a29-fbd2-b8213fdcd6a9"
      },
      "source": [
        "from sklearn.svm import SVR\n",
        "regressor = SVR(kernel = 'linear',C=1.0,max_iter=-1)\n",
        "X1 = X1['elogit'].values.reshape(-1,1)\n",
        "for i in X1:\n",
        "  X1[i] = X1[i].values.reshape(-1,1)\n",
        "  regressor.fit(X1[i].values, y1)\n",
        "  print(regressor.score(X1,y1))"
      ],
      "execution_count": null,
      "outputs": [
        {
          "output_type": "error",
          "ename": "ValueError",
          "evalue": "ignored",
          "traceback": [
            "\u001b[0;31m---------------------------------------------------------------------------\u001b[0m",
            "\u001b[0;31mValueError\u001b[0m                                Traceback (most recent call last)",
            "\u001b[0;32m<ipython-input-176-439efd835ff8>\u001b[0m in \u001b[0;36m<module>\u001b[0;34m()\u001b[0m\n\u001b[1;32m      2\u001b[0m \u001b[0mregressor\u001b[0m \u001b[0;34m=\u001b[0m \u001b[0mSVR\u001b[0m\u001b[0;34m(\u001b[0m\u001b[0mkernel\u001b[0m \u001b[0;34m=\u001b[0m \u001b[0;34m'linear'\u001b[0m\u001b[0;34m,\u001b[0m\u001b[0mC\u001b[0m\u001b[0;34m=\u001b[0m\u001b[0;36m1.0\u001b[0m\u001b[0;34m,\u001b[0m\u001b[0mmax_iter\u001b[0m\u001b[0;34m=\u001b[0m\u001b[0;34m-\u001b[0m\u001b[0;36m1\u001b[0m\u001b[0;34m)\u001b[0m\u001b[0;34m\u001b[0m\u001b[0;34m\u001b[0m\u001b[0m\n\u001b[1;32m      3\u001b[0m \u001b[0;32mfor\u001b[0m \u001b[0mi\u001b[0m \u001b[0;32min\u001b[0m \u001b[0mX1\u001b[0m\u001b[0;34m:\u001b[0m\u001b[0;34m\u001b[0m\u001b[0;34m\u001b[0m\u001b[0m\n\u001b[0;32m----> 4\u001b[0;31m   \u001b[0mregressor\u001b[0m\u001b[0;34m.\u001b[0m\u001b[0mfit\u001b[0m\u001b[0;34m(\u001b[0m\u001b[0mX1\u001b[0m\u001b[0;34m[\u001b[0m\u001b[0mi\u001b[0m\u001b[0;34m]\u001b[0m\u001b[0;34m.\u001b[0m\u001b[0mvalues\u001b[0m\u001b[0;34m,\u001b[0m \u001b[0my1\u001b[0m\u001b[0;34m)\u001b[0m\u001b[0;34m\u001b[0m\u001b[0;34m\u001b[0m\u001b[0m\n\u001b[0m\u001b[1;32m      5\u001b[0m   \u001b[0mprint\u001b[0m\u001b[0;34m(\u001b[0m\u001b[0mregressor\u001b[0m\u001b[0;34m.\u001b[0m\u001b[0mscore\u001b[0m\u001b[0;34m(\u001b[0m\u001b[0mX1\u001b[0m\u001b[0;34m,\u001b[0m\u001b[0my1\u001b[0m\u001b[0;34m)\u001b[0m\u001b[0;34m)\u001b[0m\u001b[0;34m\u001b[0m\u001b[0;34m\u001b[0m\u001b[0m\n",
            "\u001b[0;32m/usr/local/lib/python3.7/dist-packages/sklearn/svm/_base.py\u001b[0m in \u001b[0;36mfit\u001b[0;34m(self, X, y, sample_weight)\u001b[0m\n\u001b[1;32m    146\u001b[0m         X, y = check_X_y(X, y, dtype=np.float64,\n\u001b[1;32m    147\u001b[0m                          \u001b[0morder\u001b[0m\u001b[0;34m=\u001b[0m\u001b[0;34m'C'\u001b[0m\u001b[0;34m,\u001b[0m \u001b[0maccept_sparse\u001b[0m\u001b[0;34m=\u001b[0m\u001b[0;34m'csr'\u001b[0m\u001b[0;34m,\u001b[0m\u001b[0;34m\u001b[0m\u001b[0;34m\u001b[0m\u001b[0m\n\u001b[0;32m--> 148\u001b[0;31m                          accept_large_sparse=False)\n\u001b[0m\u001b[1;32m    149\u001b[0m         \u001b[0my\u001b[0m \u001b[0;34m=\u001b[0m \u001b[0mself\u001b[0m\u001b[0;34m.\u001b[0m\u001b[0m_validate_targets\u001b[0m\u001b[0;34m(\u001b[0m\u001b[0my\u001b[0m\u001b[0;34m)\u001b[0m\u001b[0;34m\u001b[0m\u001b[0;34m\u001b[0m\u001b[0m\n\u001b[1;32m    150\u001b[0m \u001b[0;34m\u001b[0m\u001b[0m\n",
            "\u001b[0;32m/usr/local/lib/python3.7/dist-packages/sklearn/utils/validation.py\u001b[0m in \u001b[0;36mcheck_X_y\u001b[0;34m(X, y, accept_sparse, accept_large_sparse, dtype, order, copy, force_all_finite, ensure_2d, allow_nd, multi_output, ensure_min_samples, ensure_min_features, y_numeric, warn_on_dtype, estimator)\u001b[0m\n\u001b[1;32m    753\u001b[0m                     \u001b[0mensure_min_features\u001b[0m\u001b[0;34m=\u001b[0m\u001b[0mensure_min_features\u001b[0m\u001b[0;34m,\u001b[0m\u001b[0;34m\u001b[0m\u001b[0;34m\u001b[0m\u001b[0m\n\u001b[1;32m    754\u001b[0m                     \u001b[0mwarn_on_dtype\u001b[0m\u001b[0;34m=\u001b[0m\u001b[0mwarn_on_dtype\u001b[0m\u001b[0;34m,\u001b[0m\u001b[0;34m\u001b[0m\u001b[0;34m\u001b[0m\u001b[0m\n\u001b[0;32m--> 755\u001b[0;31m                     estimator=estimator)\n\u001b[0m\u001b[1;32m    756\u001b[0m     \u001b[0;32mif\u001b[0m \u001b[0mmulti_output\u001b[0m\u001b[0;34m:\u001b[0m\u001b[0;34m\u001b[0m\u001b[0;34m\u001b[0m\u001b[0m\n\u001b[1;32m    757\u001b[0m         y = check_array(y, 'csr', force_all_finite=True, ensure_2d=False,\n",
            "\u001b[0;32m/usr/local/lib/python3.7/dist-packages/sklearn/utils/validation.py\u001b[0m in \u001b[0;36mcheck_array\u001b[0;34m(array, accept_sparse, accept_large_sparse, dtype, order, copy, force_all_finite, ensure_2d, allow_nd, ensure_min_samples, ensure_min_features, warn_on_dtype, estimator)\u001b[0m\n\u001b[1;32m    554\u001b[0m                     \u001b[0;34m\"Reshape your data either using array.reshape(-1, 1) if \"\u001b[0m\u001b[0;34m\u001b[0m\u001b[0;34m\u001b[0m\u001b[0m\n\u001b[1;32m    555\u001b[0m                     \u001b[0;34m\"your data has a single feature or array.reshape(1, -1) \"\u001b[0m\u001b[0;34m\u001b[0m\u001b[0;34m\u001b[0m\u001b[0m\n\u001b[0;32m--> 556\u001b[0;31m                     \"if it contains a single sample.\".format(array))\n\u001b[0m\u001b[1;32m    557\u001b[0m \u001b[0;34m\u001b[0m\u001b[0m\n\u001b[1;32m    558\u001b[0m         \u001b[0;31m# in the future np.flexible dtypes will be handled like object dtypes\u001b[0m\u001b[0;34m\u001b[0m\u001b[0;34m\u001b[0m\u001b[0;34m\u001b[0m\u001b[0m\n",
            "\u001b[0;31mValueError\u001b[0m: Expected 2D array, got 1D array instead:\narray=[0. 1. 1. ... 0. 0. 0.].\nReshape your data either using array.reshape(-1, 1) if your data has a single feature or array.reshape(1, -1) if it contains a single sample."
          ]
        }
      ]
    },
    {
      "cell_type": "code",
      "metadata": {
        "colab": {
          "base_uri": "https://localhost:8080/"
        },
        "id": "tKOYgEdQqRQ6",
        "outputId": "8d618eec-5383-4959-c242-d250a7dfe2bf"
      },
      "source": [
        "print(regressor.score(X1,y1))"
      ],
      "execution_count": null,
      "outputs": [
        {
          "output_type": "stream",
          "name": "stdout",
          "text": [
            "0.26108811096464446\n"
          ]
        }
      ]
    },
    {
      "cell_type": "code",
      "metadata": {
        "colab": {
          "base_uri": "https://localhost:8080/"
        },
        "id": "HQS0nZmuqpPb",
        "outputId": "8c301e8e-efa9-4ec5-8ac6-dd1999b34a44"
      },
      "source": [
        "from sklearn.model_selection import cross_val_score\n",
        "from sklearn import metrics\n",
        "from sklearn import svm\n",
        "\n",
        "clfsvm = svm.SVC(kernel='linear', C=2, random_state=1)\n",
        "scorez = cross_val_score(clfsvm, X1.values, y1, cv=2)\n",
        "scorez"
      ],
      "execution_count": null,
      "outputs": [
        {
          "output_type": "execute_result",
          "data": {
            "text/plain": [
              "array([nan, nan])"
            ]
          },
          "metadata": {},
          "execution_count": 43
        }
      ]
    },
    {
      "cell_type": "code",
      "metadata": {
        "colab": {
          "base_uri": "https://localhost:8080/"
        },
        "id": "JmhyvW2itEJR",
        "outputId": "98a7f424-6f7c-4d13-f805-803634c9a596"
      },
      "source": [
        "X1.isnull().sum()"
      ],
      "execution_count": null,
      "outputs": [
        {
          "data": {
            "text/plain": [
              "prime_Eng                                                         0\n",
              "nat_Eng                                                           0\n",
              "age                                                               0\n",
              "house_Eng                                                         0\n",
              "Eng_start                                                         0\n",
              "male                                                              0\n",
              "speaker_cat_foreign                                               0\n",
              "speaker_cat_late                                                  0\n",
              "speaker_cat_native                                                0\n",
              "education_Didn't Finish High School (less than 13 years ed)       0\n",
              "education_Graduate Degree                                         0\n",
              "education_Haven't Finished High School (less than 13 years ed)    0\n",
              "education_High School Degree (12-13 years)                        0\n",
              "education_Some Graduate School                                    0\n",
              "education_Some Undergrad (higher ed)                              0\n",
              "education_Undergraduate Degree (3-5 years higher ed)              0\n",
              "dtype: int64"
            ]
          },
          "execution_count": 71,
          "metadata": {},
          "output_type": "execute_result"
        }
      ]
    },
    {
      "cell_type": "code",
      "metadata": {
        "id": "YYHz9ftUMv--"
      },
      "source": [
        "\"https://www.sciencedirect.com/science/article/pii/S0010027718300994\n",
        "http://l3atbc-public.s3.amazonaws.com/pub_pdf3s/JK_Hartshorne_JB_Tenenbaum_S_Pinker_2018.pdf3\n",
        "https://osf.io/pyb8s/\n",
        "http://web.archive.org/web/20180217125721/http://archive.gameswithwords.org/WhichEnglish/\n",
        "https://osf.io/pyb8s/wiki/home/\n",
        "https://medium.com/@chacon/mit-scientists-prove-adults-learn-language-to-fluency-nearly-as-well-as-children-1de888d1d45f\"\n",
        "\n",
        "In an study published last year (preprint Pdf3 here), three Boston-area professors analyzed data from more than 600,000 people who took an online English grammar quiz. In addition to the participants’ answers, the dataset includes their native languages, the age they began learning English, the countries they’ve lived in, gender, age, and more. Related: Scott Chacon's analysis of the data, and what it might mean for older learners. [h/t George McIntire]"
      ],
      "execution_count": null,
      "outputs": []
    }
  ]
}