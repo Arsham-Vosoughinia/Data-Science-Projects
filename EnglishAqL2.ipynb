{
  "nbformat": 4,
  "nbformat_minor": 0,
  "metadata": {
    "colab": {
      "name": "EnglishAqL2.ipynb",
      "provenance": [],
      "collapsed_sections": [],
      "machine_shape": "hm",
      "include_colab_link": true
    },
    "kernelspec": {
      "display_name": "Python 3",
      "language": "python",
      "name": "python3"
    },
    "language_info": {
      "codemirror_mode": {
        "name": "ipython",
        "version": 3
      },
      "file_extension": ".py",
      "mimetype": "text/x-python",
      "name": "python",
      "nbconvert_exporter": "python",
      "pygments_lexer": "ipython3",
      "version": "3.7.6"
    }
  },
  "cells": [
    {
      "cell_type": "markdown",
      "metadata": {
        "id": "view-in-github",
        "colab_type": "text"
      },
      "source": [
        "<a href=\"https://colab.research.google.com/github/ArVos89/Arsham-DataScience/blob/main/EnglishAqL2.ipynb\" target=\"_parent\"><img src=\"https://colab.research.google.com/assets/colab-badge.svg\" alt=\"Open In Colab\"/></a>"
      ]
    },
    {
      "cell_type": "code",
      "metadata": {
        "id": "zmksZPE4qyKU"
      },
      "source": [
        "# Importing necessary \n",
        "import matplotlib.pyplot as plt\n",
        "import numpy as np\n",
        "import pandas as pd\n",
        "import statsmodels.api as sm\n",
        "from sqlalchemy import create_engine\n",
        "pd.set_option('display.max_columns', 128)\n",
        "pd.set_option('display.max_rows', 484)\n",
        "# Display preferences\n",
        "%matplotlib inline\n",
        "pd.options.display.float_format = '{:.3f}'.format\n",
        "\n",
        "from sqlalchemy import create_engine\n",
        "import seaborn as sns \n",
        "sns.set()\n",
        "\n",
        "import itertools\n",
        "import pandas as pd\n",
        "import numpy as np\n",
        "import matplotlib.pyplot as plt\n",
        "%matplotlib inline\n",
        "\n",
        "from sklearn.metrics import confusion_matrix, precision_score, recall_score\n",
        "from sklearn import ensemble\n",
        "\n",
        "from scipy.stats import boxcox\n",
        "import matplotlib.pyplot as plt\n",
        "import matplotlib.pyplot as plt\n",
        "import numpy as np\n",
        "import pandas as pd\n",
        "from sklearn import linear_model\n",
        "import statsmodels.formula.api as smf\n",
        "from sqlalchemy import create_engine\n",
        "from sklearn.preprocessing import StandardScaler, OneHotEncoder\n",
        "from sklearn.metrics import mean_squared_error\n",
        "from sklearn.linear_model import LinearRegression\n",
        "\n",
        "from sklearn.model_selection import train_test_split\n",
        "\n",
        "import warnings\n",
        "warnings.filterwarnings(action=\"ignore\")\n",
        "\n",
        "\n",
        "from google.colab import files\n",
        "# uploaded = files.upload()\n",
        "\n",
        "df= pd.read_csv('/content/data.csv' ) \n",
        "#Dataset's link :  https://osf.io/pyb8s/wiki/home/"
      ],
      "execution_count": null,
      "outputs": []
    },
    {
      "cell_type": "markdown",
      "metadata": {
        "id": "xxbe0r4YdCvD"
      },
      "source": [
        "# New Section"
      ]
    },
    {
      "cell_type": "markdown",
      "metadata": {
        "id": "01QiFzHDcnyO"
      },
      "source": [
        ""
      ]
    },
    {
      "cell_type": "code",
      "metadata": {
        "id": "9iAFqw9ecoRn"
      },
      "source": [
        "DataSet Sources: \n",
        "\"https://www.sciencedirect.com/science/article/pii/S0010027718300994\n",
        "http://l3atbc-public.s3.amazonaws.com/pub_pdfs/JK_Hartshorne_JB_Tenenbaum_S_Pinker_2018.pdf\n",
        "https://osf.io/pyb8s/\n",
        "http://web.archive.org/web/20180217125721/http://archive.gameswithwords.org/WhichEnglish/\n",
        "https://osf.io/pyb8s/wiki/home/\n",
        "https://medium.com/@chacon/mit-scientists-prove-adults-learn-language-to-fluency-nearly-as-well-as-children-1de888d1d45f\"\n",
        "\n"
      ],
      "execution_count": null,
      "outputs": []
    },
    {
      "cell_type": "markdown",
      "metadata": {
        "id": "PuyJUKleT6Zc"
      },
      "source": [
        "# New Section"
      ]
    },
    {
      "cell_type": "code",
      "metadata": {
        "id": "hSnEtKk1lhuN"
      },
      "source": [
        "df.head(5)"
      ],
      "execution_count": null,
      "outputs": []
    },
    {
      "cell_type": "code",
      "metadata": {
        "id": "6SD4VfFsqyKc"
      },
      "source": [
        "# Replacing nan values with number 0\n",
        "df['Eng_country_yrs'] = df['Eng_country_yrs'].fillna(0)\n",
        "df['Lived_Eng_per'] = df['Lived_Eng_per'].fillna(0)\n",
        "df['house_Eng'] = df['house_Eng'].fillna(0)\n",
        "\n",
        "#Droping the nan values from the following columns\n",
        "df.dropna(subset=['elogit'],inplace=True)\n",
        "df.dropna(subset=['age'],inplace=True)\n",
        "df.dropna(subset=['Eng_start'],inplace=True)\n",
        "df.dropna(subset=['Eng_little'],inplace=True)\n",
        "df.dropna(subset=['Eng_start'],inplace=True)\n",
        "df.dropna(subset=['type'],inplace=True)\n",
        "df = df.drop(df[df['gender'] == 'other'].index)\n",
        "df = df.drop(df[df['psychiatric'] == 1].index)\n",
        "df = df.drop(df[df['dyslexia'] == 1].index)"
      ],
      "execution_count": null,
      "outputs": []
    },
    {
      "cell_type": "code",
      "metadata": {
        "id": "527owUepqyKd"
      },
      "source": [
        "# Replacing value in column if a certain value is found\n",
        "# All other values in the cell are removed\n",
        "# e.g. if native language is english there is no reason to evaluate the participant based on other native language\n",
        "# value 'Other is removed\n",
        "df['natlangs'] = df.natlangs.str.replace(r'(^.*English.*$)', 'English')\n",
        "df['natlangs'] = df.natlangs.str.replace(r'(^.*Chinese.*$)', 'Chinese')\n",
        "df['natlangs'] = df.natlangs.str.replace(r'(^.*Other.*$)', '')\n",
        "df = df.drop(df[df['natlangs'] == ''].index)\n",
        "\n",
        "# Languages are grouped and replaced based on similarity and family groups\n",
        "df['natlangs'] = df.natlangs.str.replace(r'(^.*Croatian.*$)', 'Serb-Cro-Bos')\n",
        "df['natlangs'] = df.natlangs.str.replace(r'(^.*Bosnian.*$)', 'Serb-Cro-Bos')\n",
        "df['natlangs'] = df.natlangs.str.replace(r'(^.*Serbian.*$)', 'Serb-Cro-Bos')\n",
        "df['natlangs'] = df.natlangs.str.replace(r'(^.*Slovene.*$)', 'Serb-Cro-Bos')\n",
        "df['natlangs'] = df.natlangs.str.replace(r'(^.*Macedonian.*$)', 'Serb-Cro-Bos')\n",
        "\n",
        "\n",
        "df['natlangs'] = df.natlangs.str.replace(r'(^.*Russian.*$)', 'Rus-Bel-Ukr')\n",
        "df['natlangs'] = df.natlangs.str.replace(r'(^.*Belarussian.*$)', 'Rus-Bel-Ukr')\n",
        "df['natlangs'] = df.natlangs.str.replace(r'(^.*Ukrainian.*$)', 'Rus-Bel-Ukr')\n",
        "\n",
        "df['natlangs'] = df.natlangs.str.replace(r'(^.*Portuguese.*$)', 'Sp-Por')\n",
        "df['natlangs'] = df.natlangs.str.replace(r'(^.*Spanish.*$)', 'Sp-Por')\n",
        "df['natlangs'] = df.natlangs.str.replace(r'(^.*Catalan.*$)', 'Sp-Por')\n",
        "\n",
        "df['natlangs'] = df.natlangs.str.replace(r'(^.*Azeri.*$)', 'Turk_Az')\n",
        "df['natlangs'] = df.natlangs.str.replace(r'(^.* Turkish.*$)', 'Turk_Az')\n",
        "df['natlangs'] = df.natlangs.str.replace(r'(^.*Turkish.*$)', 'Turk_Az')\n",
        "\n",
        "df['natlangs'] = df.natlangs.str.replace(r'(^.*German.*$)', 'Ger_Dut')\n",
        "df['natlangs'] = df.natlangs.str.replace(r'(^.*Dutch.*$)', 'Ger_Dut')\n",
        "\n",
        "df['natlangs'] = df.natlangs.str.replace(r'(^.*Swedish.*$)', 'Scand')\n",
        "df['natlangs'] = df.natlangs.str.replace(r'(^.*Danish.*$)', 'Scand')\n",
        "df['natlangs'] = df.natlangs.str.replace(r'(^.*Norwegian.*$)', 'Scand')\n",
        "\n",
        "df['natlangs'] = df.natlangs.str.replace(r'(^.*Czech.*$)', 'Cz-Slov')\n",
        "df['natlangs'] = df.natlangs.str.replace(r'(^.*Slovak.*$)', 'Cz-Slov')\n",
        "\n",
        "df['natlangs'] = df.natlangs.str.replace(r'(^.*Malay.*$)', 'Indo-Mal')\n",
        "df['natlangs'] = df.natlangs.str.replace(r'(^.*Indonesian.*$)', 'Indo-Mal')\n",
        "df['natlangs'] = df.natlangs.str.replace(r'(^.*Malayan.*$)', 'Indo-Mal')\n",
        "df['natlangs'] = df.natlangs.str.replace(r'(^.*Malaysian.*$)', 'Indo-Mal')\n",
        "\n",
        "\n",
        "\n",
        "df['natlangs'] = df.natlangs.str.replace(r'(^.*Urdu.*$)', 'Hindi-Urdu')\n",
        "df['natlangs'] = df.natlangs.str.replace(r'(^.*Hindi.*$)', 'Hindi-Urdu')\n",
        "df['natlangs'] = df.natlangs.str.replace(r'(^.*Punjabi.*$)', 'Hindi-Urdu')\n",
        "df['natlangs'] = df.natlangs.str.replace(r'(^.*Gujarati.*$)', 'Hindi-Urdu')\n",
        "\n",
        "\n",
        "\n",
        "df['natlangs'] = df.natlangs.str.replace(r'(^.*Dari.*$)', 'Farsi')\n",
        "df['natlangs'] = df.natlangs.str.replace(r'(^.*Tajik.*$)', 'Farsi')\n",
        "df['natlangs'] = df.natlangs.str.replace(r'(^.*Tadjik.*$)', 'Farsi')\n",
        "\n",
        "\n",
        "df['natlangs'] = df.natlangs.str.replace(r'(^.*Romanian.*$)', 'Romanian')\n",
        "\n",
        "df['natlangs'] = df.natlangs.str.replace(r'(^.*French.*$)', 'French')\n"
      ],
      "execution_count": null,
      "outputs": []
    },
    {
      "cell_type": "code",
      "metadata": {
        "id": "VYRBa5iaqyKf"
      },
      "source": [
        "# Replacing value in column if a certain value is found\n",
        "# All other values in the cell are removed\n",
        "# e.g. if primary language is english there is no reason to evaluate the participant based on other primary language\n",
        "# value 'Other is removed\n",
        "\n",
        "df['primelangs'] = df.primelangs.str.replace(r'(^.*English.*$)', 'English')\n",
        "df['primelangs'] = df.primelangs.str.replace(r'(^.*Chinese.*$)', 'Chinese')\n",
        "df['primelangs'] = df.primelangs.str.replace(r'(^.*Other.*$)', '')\n",
        "df = df.drop(df[df['primelangs'] == ''].index)\n",
        "\n",
        "\n",
        "# Languages are grouped and replaced based on similarity and family groups\n",
        "df['primelangs'] = df.primelangs.str.replace(r'(^.*Croatian.*$)', 'Serb-Cro-Bos')\n",
        "df['primelangs'] = df.primelangs.str.replace(r'(^.*Bosnian.*$)', 'Serb-Cro-Bos')\n",
        "df['primelangs'] = df.primelangs.str.replace(r'(^.*Serbian.*$)', 'Serb-Cro-Bos')\n",
        "df['primelangs'] = df.primelangs.str.replace(r'(^.*Slovene.*$)', 'Serb-Cro-Bos')\n",
        "df['primelangs'] = df.primelangs.str.replace(r'(^.*Macedonian.*$)', 'Serb-Cro-Bos')\n",
        "\n",
        "\n",
        "df['primelangs'] = df.primelangs.str.replace(r'(^.*Russian.*$)', 'Rus-Bel-Ukr')\n",
        "df['primelangs'] = df.primelangs.str.replace(r'(^.*Belarussian.*$)', 'Rus-Bel-Ukr')\n",
        "df['primelangs'] = df.primelangs.str.replace(r'(^.*Ukrainian.*$)', 'Rus-Bel-Ukr')\n",
        "\n",
        "df['primelangs'] = df.primelangs.str.replace(r'(^.*Portuguese.*$)', 'Sp-Por')\n",
        "df['primelangs'] = df.primelangs.str.replace(r'(^.*Spanish.*$)', 'Sp-Por')\n",
        "df['primelangs'] = df.primelangs.str.replace(r'(^.*Catalan.*$)', 'Sp-Por')\n",
        "\n",
        "df['primelangs'] = df.primelangs.str.replace(r'(^.*Azeri.*$)', 'Turk_Az')\n",
        "df['primelangs'] = df.primelangs.str.replace(r'(^.* Turkish.*$)', 'Turk_Az')\n",
        "df['primelangs'] = df.primelangs.str.replace(r'(^.*Turkish.*$)', 'Turk_Az')\n",
        "\n",
        "df['primelangs'] = df.primelangs.str.replace(r'(^.*German.*$)', 'Ger_Dut')\n",
        "df['primelangs'] = df.primelangs.str.replace(r'(^.*Dutch.*$)', 'Ger_Dut')\n",
        "\n",
        "df['primelangs'] = df.primelangs.str.replace(r'(^.*Swedish.*$)', 'Scand')\n",
        "df['primelangs'] = df.primelangs.str.replace(r'(^.*Danish.*$)', 'Scand')\n",
        "df['primelangs'] = df.primelangs.str.replace(r'(^.*Norwegian.*$)', 'Scand')\n",
        "\n",
        "df['primelangs'] = df.primelangs.str.replace(r'(^.*Czech.*$)', 'Cz-Slov')\n",
        "df['primelangs'] = df.primelangs.str.replace(r'(^.*Slovak.*$)', 'Cz-Slov')\n",
        "\n",
        "df['primelangs'] = df.primelangs.str.replace(r'(^.*Malay.*$)', 'Indo-Mal')\n",
        "df['primelangs'] = df.primelangs.str.replace(r'(^.*Indonesian.*$)', 'Indo-Mal')\n",
        "df['primelangs'] = df.primelangs.str.replace(r'(^.*Malayan.*$)', 'Indo-Mal')\n",
        "df['primelangs'] = df.primelangs.str.replace(r'(^.*Malaysian.*$)', 'Indo-Mal')\n",
        "\n",
        "\n",
        "\n",
        "df['primelangs'] = df.primelangs.str.replace(r'(^.*Urdu.*$)', 'Hindi-Urdu')\n",
        "df['primelangs'] = df.primelangs.str.replace(r'(^.*Hindi.*$)', 'Hindi-Urdu')\n",
        "df['primelangs'] = df.primelangs.str.replace(r'(^.*Punjabi.*$)', 'Hindi-Urdu')\n",
        "df['primelangs'] = df.primelangs.str.replace(r'(^.*Gujarati.*$)', 'Hindi-Urdu')\n",
        "\n",
        "\n",
        "\n",
        "df['primelangs'] = df.primelangs.str.replace(r'(^.*Dari.*$)', 'Farsi')\n",
        "df['primelangs'] = df.primelangs.str.replace(r'(^.*Tajik.*$)', 'Farsi')\n",
        "df['primelangs'] = df.primelangs.str.replace(r'(^.*Tadjik.*$)', 'Farsi')\n",
        "\n",
        "\n",
        "df['primelangs'] = df.primelangs.str.replace(r'(^.*Romanian.*$)', 'Romanian')\n",
        "\n",
        "df['primelangs'] = df.primelangs.str.replace(r'(^.*French.*$)', 'French')\n"
      ],
      "execution_count": null,
      "outputs": []
    },
    {
      "cell_type": "code",
      "metadata": {
        "id": "ro8e2BTilc6Z"
      },
      "source": [
        "#  values that contain china regardless of region are removed\n",
        "# feature type coresponds to Nationality\n",
        "df['type'] = df.type.str.replace(r'(^.*Chinese.*$)', 'China')\n"
      ],
      "execution_count": null,
      "outputs": []
    },
    {
      "cell_type": "code",
      "metadata": {
        "id": "3seEPpQ-qyKk"
      },
      "source": [
        "# removing languages from the column 'natlangs' where there are limited number of participants coresponding to that value\n",
        "\n",
        "value_counts = df['natlangs'].value_counts()  # counting column 'natlangs unique values\n",
        "to_remove = value_counts[value_counts <= 240].index  # storing value counts under 240 \n",
        "to_remove_df = df[~df.natlangs.isin(to_remove)] # removing other variables if they are not stored in to_remove\n",
        "\n",
        "# removing values in column 'primelangs' that do not match with the column 'natlangs'\n",
        "to_remove_df=df[df[\"primelangs\"].isin(['English', 'Vietnamese', 'Sp-Por', 'Ger_Dut', 'Finnish',\n",
        "       'Estonian', 'Polish', 'Hebrew', 'Scand', 'French', 'Turk_Az',\n",
        "       'Arabic', 'Italian', 'Chinese', 'Latvian', 'Korean', 'Rus-Bel-Ukr',\n",
        "       'Greek', 'Cz-Slov', 'Serb-Cro-Bos', 'Hungarian', 'Romanian',\n",
        "       'Bulgarian', 'Lithuanian', 'Thai', 'Indo-Mal', 'Flemish',\n",
        "       'Icelandic', 'Farsi', 'Japanese']) == True]                \n",
        "\n",
        "# removing unconventional educational degrees \n",
        "value_counts_3 = df['education'].value_counts() # counting column 'education' unique values\n",
        "to_remove_3 = value_counts_3[value_counts_3 <= 46].index # storing value counts under 46\n",
        "to_remove_df = to_remove_df[~to_remove_df.education.isin(to_remove_3)] # removing other variables if they are not stored in to_remove_3\n"
      ],
      "execution_count": null,
      "outputs": []
    },
    {
      "cell_type": "code",
      "metadata": {
        "id": "AfMzLmKz_yne"
      },
      "source": [
        "from scipy.stats.mstats import winsorize\n",
        "\n",
        "# Apply one-way winsorization to the lowest end of target variable\n",
        "# value of the ninetieth percentile. \n",
        "df['elogit'] = winsorize(df['elogit'], (0.00020, 0))\n",
        "\n"
      ],
      "execution_count": null,
      "outputs": []
    },
    {
      "cell_type": "code",
      "metadata": {
        "colab": {
          "base_uri": "https://localhost:8080/",
          "height": 227
        },
        "id": "8mw7sckNuWum",
        "outputId": "ccc7f4b1-2cd0-473c-dfa6-ffb66fab522f"
      },
      "source": [
        "# box plot of the target variable\n",
        "plt.figure(figsize=(5,3))   # figure size\n",
        "plt.boxplot(df['elogit'], vert=False)  #boxplot Horizontal \n",
        "plt.ylabel('Target Variable Distribution',size=10)  # setting y-axis label\n",
        "plt.yticks([0],\"\")  # removing y ticks\n",
        "plt.yticks(rotation = 90)  # rotate ticks to vertical\n",
        "plt.xlabel('Logarithmic Grade Value',size=10)  # setting x-axis label\n",
        "# plt.xlabel('Mean of Logarithmic Grade Value',size=10)\n",
        "plt.show()"
      ],
      "execution_count": null,
      "outputs": [
        {
          "output_type": "display_data",
          "data": {
            "image/png": "[encoded data removed]",
            "text/plain": [
              "<Figure size 360x216 with 1 Axes>"
            ]
          },
          "metadata": {
            "needs_background": "light"
          }
        }
      ]
    },
    {
      "cell_type": "code",
      "metadata": {
        "colab": {
          "base_uri": "https://localhost:8080/"
        },
        "id": "VFEAxkBoq_NK",
        "outputId": "234118e3-cc8e-49d9-aa7a-6147ebe5763b"
      },
      "source": [
        "to_remove_df['elogit'].describe()"
      ],
      "execution_count": null,
      "outputs": [
        {
          "data": {
            "text/plain": [
              "count   351510.000\n",
              "mean         2.980\n",
              "std          1.003\n",
              "min          0.401\n",
              "25%          2.332\n",
              "50%          3.012\n",
              "75%          3.622\n",
              "max          5.252\n",
              "Name: elogit, dtype: float64"
            ]
          },
          "execution_count": 397,
          "metadata": {},
          "output_type": "execute_result"
        }
      ]
    },
    {
      "cell_type": "code",
      "metadata": {
        "id": "UBa4NIO_0e9Z",
        "colab": {
          "base_uri": "https://localhost:8080/",
          "height": 377
        },
        "outputId": "527bb8f5-4cee-4fbf-d95a-330face56c66"
      },
      "source": [
        "plt.figure(figsize=(6,6))\n",
        "plt.hist(to_remove_df['elogit'],bins=50)  # Histogram of the target variable\n",
        "plt.xticks([1], ['Target Variable Distribution'])\n",
        "\n",
        "plt.ylabel('Number of Participants',size=10)\n",
        "plt.show()"
      ],
      "execution_count": null,
      "outputs": [
        {
          "output_type": "display_data",
          "data": {
            "image/png": "[encoded data removed]",
            "text/plain": [
              "<Figure size 432x432 with 1 Axes>"
            ]
          },
          "metadata": {
            "needs_background": "light"
          }
        }
      ]
    },
    {
      "cell_type": "code",
      "metadata": {
        "colab": {
          "base_uri": "https://localhost:8080/",
          "height": 492
        },
        "id": "M-Ppx3BM3izu",
        "outputId": "4b38959b-c0d1-4ef1-c19b-a62448517c8a"
      },
      "source": [
        "to_remove_df['age']=pd.cut(to_remove_df.age,bins=[0,10,15,20,30,40,50,60,70],labels=[10,15,20,30,40,50,60,70]) # clustering age vales into ranges 10-15-20-30-40-60-70\n",
        "agebar=to_remove_df.groupby('age')['elogit'].mean().reset_index() # grouping the age groups based of their mean of grade value on column 'elogit\n",
        "ax1=agebar.plot(x=\"age\", y=[\"elogit\"], kind=\"barh\",figsize=(4,5), width=1,legend=None) # bar plot of the age and grade\n",
        "ax1.set_yticklabels(('0-10', '10-15', '15-20', '20-30', '30-40','40-50','50-60','60-70','60-70','70-80')) # setting axis ticks to more sensible values representing ranges\n",
        "plt.ylabel('Age Group of Patricipants',size=10)\n",
        "plt.xlabel('Mean of Logarithmic Grade Value',size=10)\n",
        "plt.show()\n"
      ],
      "execution_count": null,
      "outputs": [
        {
          "data": {
            "image/png": "[encoded data removed]",
            "text/plain": [
              "<Figure size 288x360 with 1 Axes>"
            ]
          },
          "metadata": {},
          "output_type": "display_data"
        },
        {
          "name": "stdout",
          "output_type": "stream",
          "text": [
            "  age  elogit\n",
            "0  10   1.760\n",
            "1  15   2.415\n",
            "2  20   2.504\n",
            "3  30   2.577\n",
            "4  40   2.646\n",
            "5  50   2.653\n",
            "6  60   2.631\n",
            "7  70   2.616\n"
          ]
        }
      ]
    },
    {
      "cell_type": "code",
      "metadata": {
        "id": "Q_6U0o860qPR"
      },
      "source": [
        "to_remove_df['Eng_start']=pd.cut(to_remove_df.Eng_start,bins=[0,10,15,20,30,40,50,60,70],labels=[10,15,20,30,40,50,60,70]) # clustering age vales into ranges 10-15-20-30-40-60-70\n",
        "startbar=to_remove_df.groupby('Eng_start')['elogit'].mean().reset_index() # grouping the age groups based of their mean of grade value on column 'elogit\n",
        "ax=startbar.plot(x=\"Eng_start\", y=[\"elogit\"], kind=\"barh\",figsize=(4,5),width=1,legend=None)  # bar plot of the age and grade\n",
        "ax.set_yticklabels(('0-10', '10-15', '15-20', '20-30', '30-40','40-50','50-60','60-70')) # setting axis ticks to more sensible values representing ranges\n",
        "plt.ylabel('Age Group at Start of English learning',size=10)\n",
        "plt.xlabel('Mean of Logarithmic Grade Value',size=10)\n",
        "plt.show()\n"
      ],
      "execution_count": null,
      "outputs": []
    },
    {
      "cell_type": "markdown",
      "metadata": {
        "id": "YJRsdmsX4qEF"
      },
      "source": [
        ""
      ]
    },
    {
      "cell_type": "code",
      "metadata": {
        "colab": {
          "base_uri": "https://localhost:8080/",
          "height": 388
        },
        "id": "6bNr2-eGqyKk",
        "outputId": "a7c0ec9d-ac68-4db4-8718-5d40e925d4c3"
      },
      "source": [
        "edubar=to_remove_df[['education','elogit']] # storing education and target variable in a seperate set\n",
        "edubar['education'] = edubar.education.str.replace(r'(^.*Some Undergrad.*$)', 'Some Undergrad') # Shortening the education string values by replacing them\n",
        "edubar['education'] = edubar.education.str.replace(r'(^.*less than 13.*$)', 'Some High School') # Shortening the education string values by replacing them\n",
        "edubar['education'] = edubar.education.str.replace(r'(^.*12-13.*$)', 'High School Degree') # Shortening the education string values by replacing them\n",
        "edubar['education'] = edubar.education.str.replace(r'(^.*3-5.*$)', 'Undegrad Degree') # Shortening the education string values by replacing them\n",
        "\n",
        "\n",
        "\n",
        "edubar=edubar.groupby('education')['elogit'].mean().reset_index().sort_values(by='elogit') # calculating the mean grade of each education level\n",
        "edubar.plot(x=\"education\", y=[\"elogit\"], kind=\"barh\",figsize=(6,5), width=1,legend=None) # bar plot of education and grade\n",
        "plt.ylabel('Education Level',size=10)\n",
        "plt.xlabel('Mean of Logarithmic Grade Value',size=10)\n",
        "plt.yticks(size = 8)\n",
        "plt.show()\n"
      ],
      "execution_count": null,
      "outputs": [
        {
          "output_type": "display_data",
          "data": {
            "image/png": "[encoded data removed]",
            "text/plain": [
              "<Figure size 432x360 with 1 Axes>"
            ]
          },
          "metadata": {
            "needs_background": "light"
          }
        },
        {
          "output_type": "execute_result",
          "data": {
            "text/plain": [
              "array(['High School Degree', 'Graduate Degree', 'Some Graduate School',\n",
              "       'Some High School', 'Undegrad Degree', 'Some Undergrad'],\n",
              "      dtype=object)"
            ]
          },
          "metadata": {},
          "execution_count": 10
        }
      ]
    },
    {
      "cell_type": "code",
      "metadata": {
        "colab": {
          "base_uri": "https://localhost:8080/",
          "height": 319
        },
        "id": "m0llHf4KE2s8",
        "outputId": "04aeba98-3b5f-48b9-ebe0-c6e688b09b94"
      },
      "source": [
        "scbar=to_remove_df.groupby('Eng_country_yrs')['elogit'].mean().reset_index().sort_values(by='elogit') # grouping mean of grade and number of years lived in an English-speaking country\n",
        "scbar.plot(x=\"Eng_country_yrs\", y=\"elogit\", kind='scatter') # scatter plotting the above set\n",
        "plt.xlabel(\"Years Lived in English-Speaking Country\",size=10)\n",
        "plt.ylabel('Logarithmic Grade Value',size=10)\n",
        "plt.yticks(size = 8)\n",
        "plt.show()"
      ],
      "execution_count": null,
      "outputs": [
        {
          "name": "stderr",
          "output_type": "stream",
          "text": [
            "*c* argument looks like a single numeric RGB or RGBA sequence, which should be avoided as value-mapping will have precedence in case its length matches with *x* & *y*.  Please use the *color* keyword-argument or provide a 2-D array with a single row if you intend to specify the same RGB or RGBA value for all points.\n"
          ]
        },
        {
          "data": {
            "image/png": "[encoded data removed]",
            "text/plain": [
              "<Figure size 432x288 with 1 Axes>"
            ]
          },
          "metadata": {},
          "output_type": "display_data"
        }
      ]
    },
    {
      "cell_type": "code",
      "metadata": {
        "colab": {
          "base_uri": "https://localhost:8080/",
          "height": 319
        },
        "id": "KCY9qlHYIy_7",
        "outputId": "8c6e4bf3-bf18-4881-d75f-47e93590032b"
      },
      "source": [
        "scbar1=c.groupby('Lived_Eng_per')['elogit'].mean().reset_index().sort_values(by='elogit') # grouping mean of grade and percentage years knowing english in an English-speaking country\n",
        "\n",
        "scbar1.plot(x=\"Lived_Eng_per\", y=\"elogit\", kind='scatter')\n",
        "plt.xlabel(\"Percentage of years speaking English in English-speaking country\",size=10)\n",
        "plt.ylabel('Mean of Logarithmic Grade Value',size=10)\n",
        "plt.yticks(size = 10)\n",
        "plt.show()"
      ],
      "execution_count": null,
      "outputs": [
        {
          "name": "stderr",
          "output_type": "stream",
          "text": [
            "*c* argument looks like a single numeric RGB or RGBA sequence, which should be avoided as value-mapping will have precedence in case its length matches with *x* & *y*.  Please use the *color* keyword-argument or provide a 2-D array with a single row if you intend to specify the same RGB or RGBA value for all points.\n"
          ]
        },
        {
          "data": {
            "image/png": "[encoded data removed]",
            "text/plain": [
              "<Figure size 432x288 with 1 Axes>"
            ]
          },
          "metadata": {},
          "output_type": "display_data"
        }
      ]
    },
    {
      "cell_type": "code",
      "metadata": {
        "colab": {
          "base_uri": "https://localhost:8080/",
          "height": 153
        },
        "id": "SxPvi3qsKf3m",
        "outputId": "87644d15-2401-4a3f-e7fd-968439961c3d"
      },
      "source": [
        "sc2=to_remove_df.groupby('Eng_little')['elogit'].mean().reset_index().sort_values(by='elogit',ascending=False) # grouping mean of grade and English level\n",
        "\n",
        "ax9=sc2.plot(x=\"Eng_little\", y=[\"elogit\"], kind=\"barh\",figsize=(5,1.5),width=1,legend=None)\n",
        "plt.ylabel(\"Speaker's category\",size=10)\n",
        "plt.xlabel('Mean of Logarithmic Grade Value',size=10)\n",
        "ax9.set_yticklabels((  'Only English', 'Bi-lengual','Advanced','Poor English')) # setting axis ticks to more sensible values \n",
        "ax9.invert_yaxis()\n",
        "plt.yticks(size = 10)\n",
        "plt.show()"
      ],
      "execution_count": null,
      "outputs": [
        {
          "data": {
            "image/png": "[encoded data removed]",
            "text/plain": [
              "<Figure size 360x108 with 1 Axes>"
            ]
          },
          "metadata": {},
          "output_type": "display_data"
        }
      ]
    },
    {
      "cell_type": "code",
      "metadata": {
        "colab": {
          "base_uri": "https://localhost:8080/",
          "height": 119
        },
        "id": "mgizvqERclfs",
        "outputId": "4c2bb810-053d-4b49-83ba-3ceae90b3488"
      },
      "source": [
        "genderbar=to_remove_df.groupby('gender')['elogit'].mean().reset_index() # grouping based on gender\n",
        "ax8=genderbar.plot(x=\"gender\", y=[\"elogit\"], kind=\"barh\",figsize=(5,1),width=1,legend=None)\n",
        "plt.ylabel(\"Gender\",size=10)\n",
        "plt.xlabel('Mean of Logarithmic Grade Value',size=10)\n",
        "ax8.set_yticklabels(( 'Female','Male')) # setting axis ticks to more sensible values representing ranges\n",
        "ax8.invert_yaxis()\n",
        "plt.yticks(size = 10)\n",
        "plt.show()\n"
      ],
      "execution_count": null,
      "outputs": [
        {
          "data": {
            "image/png": "[encoded data removed]",
            "text/plain": [
              "<Figure size 360x72 with 1 Axes>"
            ]
          },
          "metadata": {},
          "output_type": "display_data"
        }
      ]
    },
    {
      "cell_type": "code",
      "metadata": {
        "id": "tUe3SVmGHwa8"
      },
      "source": [
        "\n",
        "to_remove_df1=to_remove_df[['natlangs','elogit']]\n",
        "\n",
        "order = to_remove_df.groupby(by=[\"natlangs\"])[\"elogit\"].mean().sort_values()[::-1].index # grouping based on native languages sorted to be fed in violinplot\n",
        "fig, nl = plt.subplots(figsize=(8,8))\n",
        "\n",
        " \n",
        "# Give it to the violin plot\n",
        "nl=sns.violinplot(y='natlangs', x='elogit', data=to_remove_df1, order=order)\n",
        "plt.ylabel(\"Native Language\",size=10)\n",
        "plt.xlabel('Mean of Logarithmic Grade Value',size=10)\n",
        "plt.show()\n"
      ],
      "execution_count": null,
      "outputs": []
    },
    {
      "cell_type": "code",
      "metadata": {
        "id": "u8B_beuFeCst"
      },
      "source": [
        "to_remove_df2=to_remove_df[['primelangs','elogit']]\n",
        "\n",
        "order1 = to_remove_df.groupby(by=[\"primelangs\"])[\"elogit\"].mean().sort_values()[::-1].index # grouping of primary languages and sorting them to be fed to the violin plot\n",
        "fig, pl = plt.subplots(figsize=(8,8))\n",
        "\n",
        "# Give it to the violin\n",
        "pl=sns.violinplot(y='primelangs', x='elogit', data=to_remove_df2, order=order1, orient='h',figsize=(7,5) )\n",
        "plt.ylabel(\"Primary Language\",size=10)\n",
        "plt.xlabel('Mean of Logarithmic Grade Value',size=10)\n",
        "plt.show()"
      ],
      "execution_count": null,
      "outputs": []
    },
    {
      "cell_type": "code",
      "metadata": {
        "id": "XXeRIFXuzUA-"
      },
      "source": [
        "\n",
        "ax23=natengbar.plot(x=\"nat_Eng\", y=[\"elogit\"], kind=\"barh\",figsize=(5,1),width=1,legend=None) # grouping mean of grade based on if the native languages is english\n",
        "plt.ylabel(\"Native of English\",size=10)\n",
        "plt.xlabel('Mean of Logarithmic Grade Value',size=10)\n",
        "ax23.set_yticklabels(( 'Native','Foreign'))\n",
        "ax23.invert_yaxis()\n",
        "plt.yticks(size = 10)\n",
        "plt.show()\n"
      ],
      "execution_count": null,
      "outputs": []
    },
    {
      "cell_type": "code",
      "metadata": {
        "id": "zKRtr2SDqyKl"
      },
      "source": [
        "# 'c' is the set that  to stores selected features\n",
        "c=to_remove_df[['elogit','currcountry','gender','type', 'speaker_cat','prime_Eng','nat_Eng','age','house_Eng','Eng_start','education','natlangs','primelangs','Lived_Eng_per','Eng_country_yrs','Eng_little']]"
      ],
      "execution_count": null,
      "outputs": []
    },
    {
      "cell_type": "code",
      "metadata": {
        "id": "0rp-Br1bqyKm"
      },
      "source": [
        "# defing X and y variables to be used in the model\n",
        "y=c['elogit']\n",
        "X=c[['gender','type', 'speaker_cat','nat_Eng','age','Eng_start','natlangs','primelangs','Eng_little']] # columns that will be evaluated\n",
        "sc=pd.get_dummies(c['speaker_cat'],drop_first=True) # converting categorical columns to dummy columns\n",
        "g=pd.get_dummies(c['gender'], drop_first=True)  # converting categorical columns to dummy columns\n",
        "n=pd.get_dummies(c['natlangs']) # converting categorical columns to dummy columns\n",
        "p=pd.get_dummies(c['primelangs']) # converting categorical columns to dummy columns\n",
        "l=pd.get_dummies(c['Eng_little']) # converting categorical columns to dummy columns\n",
        "t=pd.get_dummies(c['type']) # converting categorical columns to dummy columns\n",
        "X['age_agst']=c['age']-c['Eng_start'] # Creating a new featre using age and age of start, coresponding to the years the person knows english for\n",
        "\n",
        "\n",
        "X = X.drop(['gender'], axis =1).merge(g,left_index=True, right_index=True)  # drop the original column from X set and replace it with dummy columns\n",
        "X = X.drop(['speaker_cat'], axis =1).merge(sc,left_index=True, right_index=True) # drop the original column from X set and replace it with dummy columns\n",
        "X = X.drop(['natlangs'], axis =1).merge(n,left_index=True, right_index=True) # drop the original column from X set and replace it with dummy columns\n",
        "X = X.drop(['primelangs'], axis =1).merge(p,left_index=True, right_index=True) # drop the original column from X set and replace it with dummy columns\n",
        "X = X.drop(['Eng_little'], axis =1).merge(l,left_index=True, right_index=True) # drop the original column from X set and replace it with dummy columns\n",
        "X = X.drop(['type'], axis =1).merge(t,left_index=True, right_index=True) # drop the original column from X set and replace it with dummy columns\n",
        "\n",
        "\n",
        "# spliting data set to train and test set with 3/4 of rows being in the train set\n",
        "X_train, X_test, y_train, y_test = train_test_split(X, y, test_size=0.25, random_state=42)\n",
        "\n",
        "\n"
      ],
      "execution_count": null,
      "outputs": []
    },
    {
      "cell_type": "code",
      "metadata": {
        "colab": {
          "base_uri": "https://localhost:8080/"
        },
        "id": "y6FGIVX4cX5U",
        "outputId": "6df7676b-d330-47a3-d863-e5efd1ddfde9"
      },
      "source": [
        "X.shape # shape of X, (rows,columns)"
      ],
      "execution_count": null,
      "outputs": [
        {
          "output_type": "execute_result",
          "data": {
            "text/plain": [
              "(351510, 119)"
            ]
          },
          "metadata": {},
          "execution_count": 16
        }
      ]
    },
    {
      "cell_type": "code",
      "metadata": {
        "id": "8iv4iLL0rmjh"
      },
      "source": [
        "from scipy.stats import gaussian_kde # impotrting gaussion Kernal distribution estimation library\n",
        "\n",
        "\n",
        "xy1 = np.vstack([c['Eng_country_yrs'],y]) # Preform kernel density on data to be used for scatter plot\n",
        "z = gaussian_kde(xy1)(xy1)\n",
        "\n",
        "fig, a5x = plt.subplots(figsize=(15,6))  # ploting the density of years spent in an english country \n",
        "a5x.scatter(y, c['Eng_country_yrs'],  c=z, s=25, edgecolor='')\n",
        "plt.ylabel(\"Years Spent in a English-Speaking Country\",size=11)\n",
        "plt.xlabel('Logarithmic Grade value Distribution',size=11)\n",
        "\n",
        "\n",
        "plt.show()\n",
        "\n",
        "\n"
      ],
      "execution_count": null,
      "outputs": []
    },
    {
      "cell_type": "code",
      "metadata": {
        "id": "XPtw6f6-OfYj"
      },
      "source": [
        "\n",
        "xy = np.vstack([c['Lived_Eng_per'],y]) # Preforming kernel density on data to be used for scatter plot\n",
        "z = gaussian_kde(xy)(xy)\n",
        "fig, a4x = plt.subplots(figsize=(15,6))\n",
        "a4x.scatter(y, c['Lived_Eng_per'],  c=z, s=75, edgecolor='') # ploting density for pecentage of english known time in an english speaking country\n",
        "plt.ylabel(\"Percentage of years speaking English that lived in English-speaking country\",size=11)\n",
        "plt.xlabel('Logarithmic Grade value Distribution',size=11)\n",
        "\n",
        "\n",
        "plt.show()"
      ],
      "execution_count": null,
      "outputs": []
    },
    {
      "cell_type": "code",
      "metadata": {
        "id": "Dqkvg3ZN9EEX"
      },
      "source": [
        "# setting up the model to be used \" Gradient Boosting Regressor\"\n",
        "clfG = ensemble.GradientBoostingRegressor(n_estimators=500, max_depth=None, max_features='auto', random_state=42)\n",
        "\n",
        "results=clfG.fit(X_train, y_train) # fitting the train set into the model\n",
        "print('r2 for train set is: ',round(clfG.pvalue.score(X_train,y_train),3)) # printing the r2 value\n",
        "\n",
        "resultsTest=clfG.fit(X_test, y_test) # fitting the test set into the model\n",
        "print('r2 for test set is:',round(clfG.score(X_test,y_test),3))  # printing the r2 value\n"
      ],
      "execution_count": null,
      "outputs": []
    },
    {
      "cell_type": "code",
      "metadata": {
        "colab": {
          "base_uri": "https://localhost:8080/"
        },
        "id": "Im9NbG0ZmdLq",
        "outputId": "5c9874dc-dea4-4011-9eb2-13612779257d"
      },
      "source": [
        "from sklearn.metrics import mean_squared_error\n",
        "import math\n",
        "\n",
        "\n",
        "\n",
        "y_pred=clfG.predict(X_test)   # predicting y based on X_test data\n",
        "MSE = mean_squared_error(y_test, y_pred) #comparing predicted and actual data , calculating the MSE\n",
        " \n",
        "RMSE = math.sqrt(MSE) # calculating the Root of MSE\n",
        "\n",
        "print(\"Root Mean Square Error:\")\n",
        "print(RMSE)"
      ],
      "execution_count": null,
      "outputs": [
        {
          "output_type": "stream",
          "name": "stdout",
          "text": [
            "Root Mean Square Error:\n",
            "0.7274097507830842\n"
          ]
        }
      ]
    },
    {
      "cell_type": "code",
      "metadata": {
        "id": "xq4Pm9LRQx2Q"
      },
      "source": [
        "# ploting y original vs predicted\n",
        "x_ax = range(len(y_test))     # getting the range of y on the test set for our plot\n",
        "plt.figure(figsize=(7,7))     \n",
        "dis=plt.scatter( y_test,x_ax, s=1, color=\"blue\", label=\"original\")  # setting up scatter plot for test data\n",
        "plt.plot(y_pred, x_ax, lw=0.03, color=\"red\", label=\"predicted\") # laying the predicted data on the same plot as test data\n",
        "plt.legend()\n",
        "plt.figure(figsize=(10,10)) \n",
        "\n",
        "plt.show()"
      ],
      "execution_count": null,
      "outputs": []
    },
    {
      "cell_type": "markdown",
      "metadata": {
        "id": "vcBzb_xX_TOj"
      },
      "source": [
        ""
      ]
    },
    {
      "cell_type": "markdown",
      "metadata": {
        "id": "PeXPqUk-YQD0"
      },
      "source": [
        "Below are some of the experiment done on data"
      ]
    },
    {
      "cell_type": "code",
      "metadata": {
        "id": "dlY7mYj3oAWL"
      },
      "source": [
        "from sklearn.feature_selection import SelectFromModel  # using feature selection model\n",
        "from sklearn.ensemble import AdaBoostRegressor  # evaluating performance based in AdaRegressor\n",
        "\n",
        "estimator = GradientBoostingRegressor(random_state=42, n_estimators=500)\n",
        "selector = SelectFromModel(estimator)\n",
        "selector = selector.fit(X, y) "
      ],
      "execution_count": null,
      "outputs": []
    },
    {
      "cell_type": "code",
      "metadata": {
        "colab": {
          "base_uri": "https://localhost:8080/"
        },
        "id": "LOWhzUJqpNKN",
        "outputId": "70243d3f-893d-4876-9aa3-72cb7754a354"
      },
      "source": [
        "status = selector.get_support()      # identify the chosen columns using get_support \n",
        "print(\"Selection status: \", status) # list of selected columns based on true/false differention, index matches X indexes\n",
        "from numpy import array \n",
        "pd.set_option('display.max_rows', 100)\n",
        "\n",
        "\n",
        "features = X.columns     # storing and displaying all columns to be evaluted for feature selection\n",
        "print(\"All features:\")\n",
        "print(features) \n",
        "  \n",
        "print(\"Selected features:\")  #\n",
        "print(features[status])  # displaying the features that match in name with the selected\n",
        "selector.transform(X)"
      ],
      "execution_count": null,
      "outputs": [
        {
          "name": "stdout",
          "output_type": "stream",
          "text": [
            "Selection status:  [ True False False  True  True  True False  True False False False False\n",
            "  True False False  True False False  True False False False False False\n",
            " False False False False False  True False  True  True False False False\n",
            "  True False False False  True False  True False False False False False\n",
            "  True False False False False False False False False False False False\n",
            " False False  True False False False False False  True False False False\n",
            " False False False False False False False False False False False False\n",
            "  True False False False False False False False False False False False\n",
            " False False False False False False False False False False False False\n",
            " False False False False False False False False  True False  True False\n",
            " False]\n",
            "All features:\n",
            "Index(['Eng_start', 'nat_Eng', 'prime_Eng', 'age', 'age_agst', 'male', 'late',\n",
            "       'native', 'Arabic_x', 'Bulgarian_x',\n",
            "       ...\n",
            "       'South Africa', 'Spanish', 'Swedish', 'Swiss German', 'Thai', 'Turkish',\n",
            "       'Ukrainian', 'United States', 'Vietnamese', 'Wales'],\n",
            "      dtype='object', length=121)\n",
            "Selected features:\n",
            "Index(['Eng_start', 'age', 'age_agst', 'male', 'native', 'English_x',\n",
            "       'Finnish_x', 'Ger_Dut_x', 'Polish_x', 'Rus-Bel-Ukr_x', 'Scand_x',\n",
            "       'Turk_Az_x', 'Chinese_y', 'English_y', 'Ger_Dut_y', 'Scand_y', 'little',\n",
            "       'Finnish', 'Turkish', 'United States'],\n",
            "      dtype='object')\n"
          ]
        },
        {
          "data": {
            "text/plain": [
              "array([[ 0, 31, 31, ...,  0,  0,  1],\n",
              "       [ 0, 19, 19, ...,  0,  0,  0],\n",
              "       [ 0, 58, 58, ...,  0,  0,  1],\n",
              "       ...,\n",
              "       [ 7, 22, 15, ...,  0,  0,  0],\n",
              "       [ 6, 22, 16, ...,  0,  0,  0],\n",
              "       [10, 29, 19, ...,  0,  0,  0]])"
            ]
          },
          "execution_count": 43,
          "metadata": {},
          "output_type": "execute_result"
        }
      ]
    },
    {
      "cell_type": "markdown",
      "metadata": {
        "id": "H34A9dWjAPI8"
      },
      "source": [
        ""
      ]
    },
    {
      "cell_type": "code",
      "metadata": {
        "id": "WlCjcyXNNtZ0",
        "colab": {
          "base_uri": "https://localhost:8080/",
          "height": 355
        },
        "outputId": "6a4afe00-24fc-451e-b45c-6676a12f0fa6"
      },
      "source": [
        "feature_importance = clfG.feature_importances_    # using feature_importance to determine relative importance of each feature\n",
        "feature_importance=feature_importance[:5]     # the top 5 features are chosen for display\n",
        "# Make importances relative to max importance.\n",
        "feature_importance = 100.0 * (feature_importance / feature_importance.max())\n",
        "\n",
        "sorted_idx = np.argsort(feature_importance) # sort features based importance value\n",
        "pos = np.arange(sorted_idx.shape[0]) + .5   # assigning constant to be fed into plot for horizontal boundry \n",
        "fig, ax = plt.subplots(figsize=(5,5))\n",
        "\n",
        "plt.barh(pos, feature_importance[sorted_idx], align='center') # setting up the bar plot\n",
        "plt.yticks(pos, X.columns[sorted_idx]) # set the y ticks based on 'pos' \n",
        "ax.set_yticklabels((  'Gender [male]','Native of English [nat_Eng]','Age [age]','Years Knowing English [age_agst]','Age at Start [Eng_start]')) # reassigning y-ticks to more sensible words\n",
        "\n",
        "plt.xlabel('Relative Importance')\n",
        "plt.title('Variable Importance')\n",
        "plt.show()"
      ],
      "execution_count": null,
      "outputs": [
        {
          "output_type": "display_data",
          "data": {
            "image/png": "[encoded data removed]",
            "text/plain": [
              "<Figure size 360x360 with 1 Axes>"
            ]
          },
          "metadata": {
            "needs_background": "light"
          }
        }
      ]
    },
    {
      "cell_type": "code",
      "metadata": {
        "colab": {
          "base_uri": "https://localhost:8080/"
        },
        "id": "lTgijswlPbbe",
        "outputId": "f6e2b693-0168-402c-872f-901fb2eb3fa9"
      },
      "source": [
        "from sklearn.neighbors import KNeighborsRegressor\n",
        "from mlxtend.feature_selection import ExhaustiveFeatureSelector as EFS\n",
        "from sklearn.model_selection import RandomizedSearchCV\n",
        "from sklearn.feature_selection import SelectFromModel\n",
        "import xgboost \n",
        "\n",
        "# selecting the best arguments for the model\n",
        "xgbr = xgboost.XGBRegressor(random_state=42) # model to be used \n",
        "xgbr_params = {                               # parameters to be tested\n",
        "     \"learning_rate\": [0.001, 0.01, 0.1],\n",
        "     \"n_estimator\" : [300,500,700],\n",
        "     \"max_depth\":[10, 15, 20]}\n",
        "\n",
        "fs_xgbr = RandomizedSearchCV(xgbr, xgbr_params, cv=5, iid=False, n_jobs=-1)   # setting up model\n",
        "fs_xgbr.fit(X, y) # firring X and y into the model\n",
        "\n",
        "model = SelectFromModel(fs_xgbr.best_estimator_, prefit=True)   # estimating the best r2 value \n",
        "X_rfr = model.transform(X)  \n",
        "\n",
        "# printing the selected features using get_support() similar to previous feature importance method\n",
        "status = model.get_support() \n",
        "feature_name = X.columns[status]\n",
        "print(feature_name)\n",
        "\n",
        "\n",
        " "
      ],
      "execution_count": null,
      "outputs": [
        {
          "name": "stdout",
          "output_type": "stream",
          "text": [
            "[01:08:07] WARNING: /workspace/src/objective/regression_obj.cu:152: reg:linear is now deprecated in favor of reg:squarederror.\n",
            "Index(['nat_Eng', 'Turk_Az_x', 'little'], dtype='object')\n"
          ]
        }
      ]
    },
    {
      "cell_type": "code",
      "metadata": {
        "id": "NuDo8pZ8nxVy"
      },
      "source": [
        "from sklearn.svm import SVR\n",
        "regressor = SVR(kernel = 'rbf')\n",
        "regressor.fit(X, y)"
      ],
      "execution_count": null,
      "outputs": []
    },
    {
      "cell_type": "code",
      "metadata": {
        "id": "NLjDChl-pLlj"
      },
      "source": [
        "# obtaining smaller sample from  dataset 'c' to be used for trial and error looking at fater computation and time saving\n",
        "c1=c.sample(n=50000, random_state=42)"
      ],
      "execution_count": null,
      "outputs": []
    },
    {
      "cell_type": "code",
      "metadata": {
        "id": "l7SRff-ypz_h"
      },
      "source": [
        "# repeating defining X and y for our subsample c1\n",
        "y1=c1['elogit']\n",
        "X1=c1[['gender','type', 'speaker_cat','nat_Eng','age','Eng_start','natlangs','primelangs','Eng_little','currcountry']]\n",
        "sc1=pd.get_dummies(c1[['speaker_cat']])\n",
        "g1=pd.get_dummies(c1['gender'], drop_first=True)\n",
        "e1=pd.get_dummies(c1['currcountry'])\n",
        "n1=pd.get_dummies(c1['natlangs'])\n",
        "p1=pd.get_dummies(c1['primelangs'])\n",
        "l1=pd.get_dummies(c['Eng_little'])\n",
        "t1=pd.get_dummies(c['type'])\n",
        "X1['age_agst']=c1['age']-c1['Eng_start']\n",
        "\n",
        "\n",
        "X1 = X1.drop(['gender'], axis =1).merge(g1,left_index=True, right_index=True)\n",
        "X1 = X1.drop(['speaker_cat'], axis =1).merge(sc1,left_index=True, right_index=True)\n",
        "X1 = X1.drop(['natlangs'], axis =1).merge(n1,left_index=True, right_index=True)\n",
        "X1 = X1.drop(['primelangs'], axis =1).merge(p1,left_index=True, right_index=True)\n",
        "X1 = X1.drop(['currcountry'], axis =1).merge(e1,left_index=True, right_index=True)\n",
        "X1 = X1.drop(['Eng_little'], axis =1).merge(l1,left_index=True, right_index=True)\n",
        "X1 = X1.drop(['type'], axis =1).merge(t1,left_index=True, right_index=True)\n"
      ],
      "execution_count": null,
      "outputs": []
    },
    {
      "cell_type": "code",
      "metadata": {
        "colab": {
          "base_uri": "https://localhost:8080/"
        },
        "id": "tKOYgEdQqRQ6",
        "outputId": "27f9fab4-5f65-44e7-b639-a8054ca9764b"
      },
      "source": [
        "# calculation r2 using Gradient boosting Regression for our sample data\n",
        "clfG1 = ensemble.GradientBoostingRegressor(n_estimators=500, max_depth=15, max_features='auto',random_state=42)\n",
        "clfG1.fit(X1, y1)\n",
        "print(clfG1.score(X1,y1))"
      ],
      "execution_count": null,
      "outputs": [
        {
          "output_type": "stream",
          "name": "stdout",
          "text": [
            "0.5533671592644209\n"
          ]
        }
      ]
    },
    {
      "cell_type": "code",
      "metadata": {
        "colab": {
          "base_uri": "https://localhost:8080/"
        },
        "id": "KfD1D0EWsXRh",
        "outputId": "796a89b7-e959-4193-98a6-fdcdd536bccc"
      },
      "source": [
        "clfGa = ensemble.GradientBoostingRegressor(n_estimators=500, max_depth=None, random_state=42)\n",
        "clfGa.fit(X1, y1)\n",
        "print(clfGa.score(X1,y1))\n",
        "\n"
      ],
      "execution_count": null,
      "outputs": [
        {
          "name": "stdout",
          "output_type": "stream",
          "text": [
            "0.5115830335456651\n"
          ]
        }
      ]
    },
    {
      "cell_type": "code",
      "metadata": {
        "colab": {
          "base_uri": "https://localhost:8080/"
        },
        "id": "z86TFOYkcEol",
        "outputId": "e10317c4-2cbd-46d8-ef97-e4a585df445f"
      },
      "source": [
        "from sklearn.metrics import mean_squared_error\n",
        "import math\n",
        "\n",
        "\n",
        "\n",
        "y_pred=model.predict(g2)\n",
        "MSE = mean_squared_error(y_test, y_pred)\n",
        " \n",
        "RMSE = math.sqrt(MSE)\n",
        "\n",
        "print(\"Root Mean Square Error:\")\n",
        "print(RMSE)"
      ],
      "execution_count": null,
      "outputs": [
        {
          "name": "stdout",
          "output_type": "stream",
          "text": [
            "Root Mean Square Error:\n",
            "0.7802625673149743\n"
          ]
        }
      ]
    },
    {
      "cell_type": "code",
      "metadata": {
        "colab": {
          "base_uri": "https://localhost:8080/"
        },
        "id": "JmhyvW2itEJR",
        "outputId": "94f42bf3-f870-4abd-90db-624895f8f500"
      },
      "source": [
        "from sklearn.datasets import load_boston\n",
        "from sklearn.ensemble import GradientBoostingRegressor\n",
        "from sklearn.model_selection import GridSearchCV\n",
        "\n",
        "param_grid = {\n",
        "    \n",
        "    'max_depth': [5,10, 15, 500],\n",
        "    'n_estimators': [100, 200, 300, 500]\n",
        "}\n",
        "\n",
        "gb = GradientBoostingRegressor()\n",
        "grid_search = GridSearchCV(estimator = gb, param_grid = param_grid, cv = 3, n_jobs = -1, verbose = 2)\n",
        "grid_search.fit(X_train, y_train)\n",
        "print(grid_search.score(X_train,y_train))"
      ],
      "execution_count": null,
      "outputs": [
        {
          "name": "stdout",
          "output_type": "stream",
          "text": [
            "Fitting 3 folds for each of 16 candidates, totalling 48 fits\n"
          ]
        },
        {
          "name": "stderr",
          "output_type": "stream",
          "text": [
            "[Parallel(n_jobs=-1)]: Using backend LokyBackend with 4 concurrent workers.\n",
            "[Parallel(n_jobs=-1)]: Done  33 tasks      | elapsed:  6.8min\n",
            "[Parallel(n_jobs=-1)]: Done  48 out of  48 | elapsed: 15.8min finished\n"
          ]
        },
        {
          "name": "stdout",
          "output_type": "stream",
          "text": [
            "0.11830926652062945\n"
          ]
        }
      ]
    }
  ]
}